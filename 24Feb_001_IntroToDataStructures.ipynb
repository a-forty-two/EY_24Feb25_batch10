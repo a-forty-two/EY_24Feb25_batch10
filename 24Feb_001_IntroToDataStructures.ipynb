{
  "nbformat": 4,
  "nbformat_minor": 0,
  "metadata": {
    "colab": {
      "provenance": [],
      "authorship_tag": "ABX9TyN9AUb/urhSoCiCcWpC83ZK",
      "include_colab_link": true
    },
    "kernelspec": {
      "name": "python3",
      "display_name": "Python 3"
    },
    "language_info": {
      "name": "python"
    }
  },
  "cells": [
    {
      "cell_type": "markdown",
      "metadata": {
        "id": "view-in-github",
        "colab_type": "text"
      },
      "source": [
        "<a href=\"https://colab.research.google.com/github/a-forty-two/EY_24Feb25_batch10/blob/main/24Feb_001_IntroToDataStructures.ipynb\" target=\"_parent\"><img src=\"https://colab.research.google.com/assets/colab-badge.svg\" alt=\"Open In Colab\"/></a>"
      ]
    },
    {
      "cell_type": "code",
      "execution_count": 1,
      "metadata": {
        "id": "m_HZHtFVbKWj"
      },
      "outputs": [],
      "source": [
        "# scalar value , 0-rank Tensor or 0-dimension\n",
        "a =1\n",
        "b = 'hello world'\n",
        "c = 3.15\n",
        "d = True"
      ]
    },
    {
      "cell_type": "code",
      "source": [
        "# Vector , 1-rank tensor\n",
        "blahblah = [1, 2, 3, 4, 5, 6]"
      ],
      "metadata": {
        "id": "S9pdCljOcUHi"
      },
      "execution_count": 2,
      "outputs": []
    },
    {
      "cell_type": "code",
      "source": [
        "# Matrix , 2-rank tensors\n",
        "matrix = [[1, 2, 3],\n",
        " [4, 5, 6],\n",
        "  [7, 8, 9]]\n",
        "print(matrix)"
      ],
      "metadata": {
        "colab": {
          "base_uri": "https://localhost:8080/"
        },
        "id": "-di8mPRmceEz",
        "outputId": "24faf57e-5a8c-4145-def0-2ac6ca4184a2"
      },
      "execution_count": 3,
      "outputs": [
        {
          "output_type": "stream",
          "name": "stdout",
          "text": [
            "[[1, 2, 3], [4, 5, 6], [7, 8, 9]]\n"
          ]
        }
      ]
    },
    {
      "cell_type": "code",
      "source": [
        "# cube, 3-D, 3-rank tensors\n",
        "\n",
        "cube = [ [ [1,2], [2,1]]]"
      ],
      "metadata": {
        "id": "x-9C39CMct7U"
      },
      "execution_count": 5,
      "outputs": []
    },
    {
      "cell_type": "code",
      "source": [
        "# N-dimension TENSORS\n",
        "\n",
        "data = [[[[[[1,2]]]]]]\n",
        "data"
      ],
      "metadata": {
        "colab": {
          "base_uri": "https://localhost:8080/"
        },
        "id": "J1VZpZKOczM8",
        "outputId": "be18d8c3-c642-4406-da71-58008e65aebc"
      },
      "execution_count": 8,
      "outputs": [
        {
          "output_type": "execute_result",
          "data": {
            "text/plain": [
              "[[[[[[1, 2]]]]]]"
            ]
          },
          "metadata": {},
          "execution_count": 8
        }
      ]
    },
    {
      "cell_type": "code",
      "source": [
        "# reshaping functions -> allow us to convert one dimension type to another\n",
        "import numpy as np\n",
        "\n",
        "data1 = [1,2,3,4,5,6,7,8]\n",
        "\n",
        "data2 = np.reshape(data1, (1,8))\n",
        "data3 = np.reshape(data1, (8,1))\n",
        "data4 = np.reshape(data1, (2,4))\n",
        "data5 = np.reshape(data1, (4,2))\n"
      ],
      "metadata": {
        "id": "6MrH5XSthrnW"
      },
      "execution_count": 9,
      "outputs": []
    },
    {
      "cell_type": "code",
      "source": [
        "data2"
      ],
      "metadata": {
        "colab": {
          "base_uri": "https://localhost:8080/"
        },
        "id": "fBoxsAD7hvpN",
        "outputId": "6c157c43-7239-465e-a033-e6d0da22c53e"
      },
      "execution_count": 10,
      "outputs": [
        {
          "output_type": "execute_result",
          "data": {
            "text/plain": [
              "array([[1, 2, 3, 4, 5, 6, 7, 8]])"
            ]
          },
          "metadata": {},
          "execution_count": 10
        }
      ]
    },
    {
      "cell_type": "code",
      "source": [
        "data3"
      ],
      "metadata": {
        "colab": {
          "base_uri": "https://localhost:8080/"
        },
        "id": "BKQ4HHWuifW1",
        "outputId": "cecb56bd-47e6-494c-a835-88bcd931a56a"
      },
      "execution_count": 11,
      "outputs": [
        {
          "output_type": "execute_result",
          "data": {
            "text/plain": [
              "array([[1],\n",
              "       [2],\n",
              "       [3],\n",
              "       [4],\n",
              "       [5],\n",
              "       [6],\n",
              "       [7],\n",
              "       [8]])"
            ]
          },
          "metadata": {},
          "execution_count": 11
        }
      ]
    },
    {
      "cell_type": "code",
      "source": [
        "data4"
      ],
      "metadata": {
        "colab": {
          "base_uri": "https://localhost:8080/"
        },
        "id": "fak_x7jsifxO",
        "outputId": "dc216411-26a7-492f-e81d-13d2fa7c276e"
      },
      "execution_count": 12,
      "outputs": [
        {
          "output_type": "execute_result",
          "data": {
            "text/plain": [
              "array([[1, 2, 3, 4],\n",
              "       [5, 6, 7, 8]])"
            ]
          },
          "metadata": {},
          "execution_count": 12
        }
      ]
    },
    {
      "cell_type": "code",
      "source": [
        "data5"
      ],
      "metadata": {
        "colab": {
          "base_uri": "https://localhost:8080/"
        },
        "id": "_gVl--fBigLQ",
        "outputId": "c0ad5f32-3f67-4d86-ccad-3ea0c0fbeb24"
      },
      "execution_count": 13,
      "outputs": [
        {
          "output_type": "execute_result",
          "data": {
            "text/plain": [
              "array([[1, 2],\n",
              "       [3, 4],\n",
              "       [5, 6],\n",
              "       [7, 8]])"
            ]
          },
          "metadata": {},
          "execution_count": 13
        }
      ]
    },
    {
      "cell_type": "code",
      "source": [
        "data6 = np.reshape(data1, (2,2,2))\n",
        "data6"
      ],
      "metadata": {
        "colab": {
          "base_uri": "https://localhost:8080/"
        },
        "id": "4KBPm6fEigoR",
        "outputId": "166a6782-1330-491a-f380-021a52a9a52a"
      },
      "execution_count": 14,
      "outputs": [
        {
          "output_type": "execute_result",
          "data": {
            "text/plain": [
              "array([[[1, 2],\n",
              "        [3, 4]],\n",
              "\n",
              "       [[5, 6],\n",
              "        [7, 8]]])"
            ]
          },
          "metadata": {},
          "execution_count": 14
        }
      ]
    },
    {
      "cell_type": "code",
      "source": [
        "data7 = np.reshape(data1, (1,1,1,1,1,1,2,2,2,1))\n",
        "data7"
      ],
      "metadata": {
        "colab": {
          "base_uri": "https://localhost:8080/"
        },
        "id": "cNczFQfOipyR",
        "outputId": "fc13897e-960c-434f-eff8-75624b8401ab"
      },
      "execution_count": 15,
      "outputs": [
        {
          "output_type": "execute_result",
          "data": {
            "text/plain": [
              "array([[[[[[[[[[1],\n",
              "               [2]],\n",
              "\n",
              "              [[3],\n",
              "               [4]]],\n",
              "\n",
              "\n",
              "             [[[5],\n",
              "               [6]],\n",
              "\n",
              "              [[7],\n",
              "               [8]]]]]]]]]])"
            ]
          },
          "metadata": {},
          "execution_count": 15
        }
      ]
    },
    {
      "cell_type": "code",
      "source": [
        "data7.shape"
      ],
      "metadata": {
        "colab": {
          "base_uri": "https://localhost:8080/"
        },
        "id": "WD0PeBC_jBqO",
        "outputId": "3de411f9-3062-4a5e-d2b5-fe8bf05235ef"
      },
      "execution_count": 16,
      "outputs": [
        {
          "output_type": "execute_result",
          "data": {
            "text/plain": [
              "(1, 1, 1, 1, 1, 1, 2, 2, 2, 1)"
            ]
          },
          "metadata": {},
          "execution_count": 16
        }
      ]
    },
    {
      "cell_type": "code",
      "source": [
        "\n",
        "# Array is known as LIST in python\n",
        "# List is a 1-D structure\n",
        "\n",
        "mylist = [ 0.0, \"hello\", 42, False, True, 1, 0.55]\n",
        "\n",
        "print(mylist)"
      ],
      "metadata": {
        "colab": {
          "base_uri": "https://localhost:8080/"
        },
        "id": "DG2Fc3VZjXwj",
        "outputId": "d9920474-4e4e-4009-ebb3-86e569801e56"
      },
      "execution_count": 19,
      "outputs": [
        {
          "output_type": "stream",
          "name": "stdout",
          "text": [
            "[0.0, 'hello', 42, False, True, 1, 0.55]\n"
          ]
        }
      ]
    },
    {
      "cell_type": "code",
      "source": [
        "\n",
        "# INDEXED, ORDERED, MUTABLE Collection -> it will carry an index, and the\n",
        "# positions will never change\n",
        "\n",
        "#ordered -> sequence of elements will never change\n",
        "\n",
        "# mutable -> make ANY changes to any of the values!\n",
        "\n",
        "\n",
        "# indexing\n",
        "# left to right-> 0 to positive\n",
        "# right to left -> negative numbers\n",
        "print(mylist[0]) # first element\n",
        "\n",
        "print(mylist[-1]) # last element"
      ],
      "metadata": {
        "colab": {
          "base_uri": "https://localhost:8080/"
        },
        "id": "0vwzdlbEjZ5k",
        "outputId": "e593168e-da10-49dd-c3ef-389d4375c6cb"
      },
      "execution_count": 20,
      "outputs": [
        {
          "output_type": "stream",
          "name": "stdout",
          "text": [
            "0.0\n",
            "0.55\n"
          ]
        }
      ]
    },
    {
      "cell_type": "code",
      "source": [
        "a = [1,2]\n",
        "b = [2,1]\n",
        "c = [a,b]\n",
        "print(c)"
      ],
      "metadata": {
        "colab": {
          "base_uri": "https://localhost:8080/"
        },
        "id": "SQXVzyPvpg8_",
        "outputId": "99047f9b-885f-4b1b-bff4-8f23d3f9da92"
      },
      "execution_count": 21,
      "outputs": [
        {
          "output_type": "stream",
          "name": "stdout",
          "text": [
            "[[1, 2], [2, 1]]\n"
          ]
        }
      ]
    },
    {
      "cell_type": "code",
      "source": [
        "#mutable\n",
        "mylist[0] = 'bye bye'"
      ],
      "metadata": {
        "id": "WnS7f2Sqp2F4"
      },
      "execution_count": 22,
      "outputs": []
    },
    {
      "cell_type": "code",
      "source": [
        "# TUPLES -> ORDERED, INDEXED, IMMUTABLE\n",
        "\n",
        "# Once created NO MORE CHANGES!!!\n",
        "mytuple = (0.0, \"hello\", 42, False, True, 1, 0.55)\n",
        "print(mytuple[-1]) # indexed\n",
        "print(mytuple) # ORDERED"
      ],
      "metadata": {
        "colab": {
          "base_uri": "https://localhost:8080/"
        },
        "id": "U0RIWqYwp_yl",
        "outputId": "74a3b3a7-a145-4f30-87fe-a82109dc1147"
      },
      "execution_count": 24,
      "outputs": [
        {
          "output_type": "stream",
          "name": "stdout",
          "text": [
            "0.55\n",
            "(0.0, 'hello', 42, False, True, 1, 0.55)\n"
          ]
        }
      ]
    },
    {
      "cell_type": "code",
      "source": [
        "# IMMUTABLE-> error expected\n",
        "mytuple[-1] = 'hello world'"
      ],
      "metadata": {
        "colab": {
          "base_uri": "https://localhost:8080/",
          "height": 159
        },
        "id": "Yn7Sf3-vqQAS",
        "outputId": "cfbe0e85-eb13-4ecd-f078-c96f3aa67b33"
      },
      "execution_count": 25,
      "outputs": [
        {
          "output_type": "error",
          "ename": "TypeError",
          "evalue": "'tuple' object does not support item assignment",
          "traceback": [
            "\u001b[0;31m---------------------------------------------------------------------------\u001b[0m",
            "\u001b[0;31mTypeError\u001b[0m                                 Traceback (most recent call last)",
            "\u001b[0;32m<ipython-input-25-ae04d3b5495c>\u001b[0m in \u001b[0;36m<cell line: 0>\u001b[0;34m()\u001b[0m\n\u001b[1;32m      1\u001b[0m \u001b[0;31m# IMMUTABLE-> error expected\u001b[0m\u001b[0;34m\u001b[0m\u001b[0;34m\u001b[0m\u001b[0m\n\u001b[0;32m----> 2\u001b[0;31m \u001b[0mmytuple\u001b[0m\u001b[0;34m[\u001b[0m\u001b[0;34m-\u001b[0m\u001b[0;36m1\u001b[0m\u001b[0;34m]\u001b[0m \u001b[0;34m=\u001b[0m \u001b[0;34m'hello world'\u001b[0m\u001b[0;34m\u001b[0m\u001b[0;34m\u001b[0m\u001b[0m\n\u001b[0m",
            "\u001b[0;31mTypeError\u001b[0m: 'tuple' object does not support item assignment"
          ]
        }
      ]
    },
    {
      "cell_type": "code",
      "source": [
        "# SET -> NO DUPLICATES, UNORDERED, UNINDEXED\n",
        "\n",
        "a1 = { 'apple', 'banana', 'apple'}\n",
        "a2 = { 'banana', 'apple'}\n",
        "print(a1)\n",
        "print(a2)"
      ],
      "metadata": {
        "colab": {
          "base_uri": "https://localhost:8080/"
        },
        "id": "0W_-IpGvqjZ0",
        "outputId": "17f2df95-e124-44a1-b47e-6c1e6efdcfe8"
      },
      "execution_count": 26,
      "outputs": [
        {
          "output_type": "stream",
          "name": "stdout",
          "text": [
            "{'banana', 'apple'}\n",
            "{'banana', 'apple'}\n"
          ]
        }
      ]
    },
    {
      "cell_type": "code",
      "source": [
        "print(a1-a2)"
      ],
      "metadata": {
        "colab": {
          "base_uri": "https://localhost:8080/"
        },
        "id": "-9xBocjGrceu",
        "outputId": "4bd024b7-9fac-4722-d8ce-03c2d32fdb6a"
      },
      "execution_count": 27,
      "outputs": [
        {
          "output_type": "stream",
          "name": "stdout",
          "text": [
            "set()\n"
          ]
        }
      ]
    },
    {
      "cell_type": "code",
      "source": [
        "# UNINDEXED -> Error expected\n",
        "a1[0]"
      ],
      "metadata": {
        "colab": {
          "base_uri": "https://localhost:8080/",
          "height": 159
        },
        "id": "9xvuKgqErexZ",
        "outputId": "39880e99-3e79-49e3-bd30-e5a103292768"
      },
      "execution_count": 28,
      "outputs": [
        {
          "output_type": "error",
          "ename": "TypeError",
          "evalue": "'set' object is not subscriptable",
          "traceback": [
            "\u001b[0;31m---------------------------------------------------------------------------\u001b[0m",
            "\u001b[0;31mTypeError\u001b[0m                                 Traceback (most recent call last)",
            "\u001b[0;32m<ipython-input-28-1d835e84eaf7>\u001b[0m in \u001b[0;36m<cell line: 0>\u001b[0;34m()\u001b[0m\n\u001b[1;32m      1\u001b[0m \u001b[0;31m# UNINDEXED ->\u001b[0m\u001b[0;34m\u001b[0m\u001b[0;34m\u001b[0m\u001b[0m\n\u001b[0;32m----> 2\u001b[0;31m \u001b[0ma1\u001b[0m\u001b[0;34m[\u001b[0m\u001b[0;36m0\u001b[0m\u001b[0;34m]\u001b[0m\u001b[0;34m\u001b[0m\u001b[0;34m\u001b[0m\u001b[0m\n\u001b[0m",
            "\u001b[0;31mTypeError\u001b[0m: 'set' object is not subscriptable"
          ]
        }
      ]
    },
    {
      "cell_type": "code",
      "source": [
        "# UNORDERED, UNINDEXED\n",
        "s1 = { 'apple', 42, False, 0, 1, True, 'blah'}\n",
        "s2 = { 0, 1, True, 'blah'}\n",
        "print(s1)\n",
        "print(s2)\n"
      ],
      "metadata": {
        "colab": {
          "base_uri": "https://localhost:8080/"
        },
        "id": "yVXB5CwIs-7T",
        "outputId": "ec093541-f931-4f16-ee91-5d2d691b6a6c"
      },
      "execution_count": 36,
      "outputs": [
        {
          "output_type": "stream",
          "name": "stdout",
          "text": [
            "{False, 1, 'apple', 42, 'blah'}\n",
            "{0, 1, 'blah'}\n"
          ]
        }
      ]
    },
    {
      "cell_type": "code",
      "source": [
        "# list [ ]\n",
        "# set { }\n",
        "# tuple ( )\n"
      ],
      "metadata": {
        "id": "TkeJhkbyrm6I"
      },
      "execution_count": 29,
      "outputs": []
    },
    {
      "cell_type": "code",
      "source": [
        "# DICTIONARY -> Key,value pairs!\n",
        "# UNORDERED, INDEXED, MUTABLE collection\n",
        "# special SET where we also have INDEXES -> KEYS!\n",
        "# Keys need to be unique\n",
        "\n",
        "mydict = { -1: 'world', 42:False, 'pi':3.14}"
      ],
      "metadata": {
        "id": "mo9N4fn6r5LB"
      },
      "execution_count": 33,
      "outputs": []
    },
    {
      "cell_type": "code",
      "source": [
        "# INDEXING is NOT 0...Positive numbers, but only the KEYS\n",
        "# defined the dictionary!\n",
        "\n",
        "print(mydict[0]) # ERROR -> no key called 0 present"
      ],
      "metadata": {
        "colab": {
          "base_uri": "https://localhost:8080/",
          "height": 176
        },
        "id": "dIBlB4H7sJgx",
        "outputId": "1be18795-5290-48fe-a2ce-82e402b3de11"
      },
      "execution_count": 31,
      "outputs": [
        {
          "output_type": "error",
          "ename": "KeyError",
          "evalue": "0",
          "traceback": [
            "\u001b[0;31m---------------------------------------------------------------------------\u001b[0m",
            "\u001b[0;31mKeyError\u001b[0m                                  Traceback (most recent call last)",
            "\u001b[0;32m<ipython-input-31-63bb4dad4e4d>\u001b[0m in \u001b[0;36m<cell line: 0>\u001b[0;34m()\u001b[0m\n\u001b[1;32m      2\u001b[0m \u001b[0;31m# defined the dictionary!\u001b[0m\u001b[0;34m\u001b[0m\u001b[0;34m\u001b[0m\u001b[0m\n\u001b[1;32m      3\u001b[0m \u001b[0;34m\u001b[0m\u001b[0m\n\u001b[0;32m----> 4\u001b[0;31m \u001b[0mprint\u001b[0m\u001b[0;34m(\u001b[0m\u001b[0mmydict\u001b[0m\u001b[0;34m[\u001b[0m\u001b[0;36m0\u001b[0m\u001b[0;34m]\u001b[0m\u001b[0;34m)\u001b[0m \u001b[0;31m# ERROR -> no key called 0 present\u001b[0m\u001b[0;34m\u001b[0m\u001b[0;34m\u001b[0m\u001b[0m\n\u001b[0m",
            "\u001b[0;31mKeyError\u001b[0m: 0"
          ]
        }
      ]
    },
    {
      "cell_type": "code",
      "source": [
        "print(mydict['pi'])"
      ],
      "metadata": {
        "colab": {
          "base_uri": "https://localhost:8080/"
        },
        "id": "6so_118wsVxX",
        "outputId": "303dd391-349c-4786-803a-2f184d3dccb6"
      },
      "execution_count": 32,
      "outputs": [
        {
          "output_type": "stream",
          "name": "stdout",
          "text": [
            "3.14\n"
          ]
        }
      ]
    },
    {
      "cell_type": "code",
      "source": [
        "for key,value in mydict.items():\n",
        "  print(key, value)"
      ],
      "metadata": {
        "colab": {
          "base_uri": "https://localhost:8080/"
        },
        "id": "DuNLdbcEsaQl",
        "outputId": "78efffe4-a1c2-4e81-f1f7-cf51f894c98e"
      },
      "execution_count": 35,
      "outputs": [
        {
          "output_type": "stream",
          "name": "stdout",
          "text": [
            "-1 world\n",
            "42 False\n",
            "pi 42\n"
          ]
        }
      ]
    },
    {
      "cell_type": "code",
      "source": [],
      "metadata": {
        "id": "_9Kx7K32smrT"
      },
      "execution_count": null,
      "outputs": []
    }
  ]
}