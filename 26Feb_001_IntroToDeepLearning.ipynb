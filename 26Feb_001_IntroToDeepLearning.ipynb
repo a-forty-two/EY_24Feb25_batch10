{
  "nbformat": 4,
  "nbformat_minor": 0,
  "metadata": {
    "colab": {
      "provenance": [],
      "authorship_tag": "ABX9TyO+b6ZBDDqlwL2rE2Uz7WT1",
      "include_colab_link": true
    },
    "kernelspec": {
      "name": "python3",
      "display_name": "Python 3"
    },
    "language_info": {
      "name": "python"
    }
  },
  "cells": [
    {
      "cell_type": "markdown",
      "metadata": {
        "id": "view-in-github",
        "colab_type": "text"
      },
      "source": [
        "<a href=\"https://colab.research.google.com/github/a-forty-two/EY_24Feb25_batch10/blob/main/26Feb_001_IntroToDeepLearning.ipynb\" target=\"_parent\"><img src=\"https://colab.research.google.com/assets/colab-badge.svg\" alt=\"Open In Colab\"/></a>"
      ]
    },
    {
      "cell_type": "code",
      "execution_count": 1,
      "metadata": {
        "id": "8XOhbr8Wx0Pa"
      },
      "outputs": [],
      "source": [
        "import tensorflow as tf\n",
        "import keras"
      ]
    },
    {
      "cell_type": "code",
      "source": [
        "dir(keras.datasets)"
      ],
      "metadata": {
        "colab": {
          "base_uri": "https://localhost:8080/"
        },
        "id": "QITiOGPbyROJ",
        "outputId": "d2917839-1b16-4b01-fd32-ff7e59fa0ad2"
      },
      "execution_count": 2,
      "outputs": [
        {
          "output_type": "execute_result",
          "data": {
            "text/plain": [
              "['__builtins__',\n",
              " '__cached__',\n",
              " '__doc__',\n",
              " '__file__',\n",
              " '__loader__',\n",
              " '__name__',\n",
              " '__package__',\n",
              " '__path__',\n",
              " '__spec__',\n",
              " 'boston_housing',\n",
              " 'california_housing',\n",
              " 'cifar10',\n",
              " 'cifar100',\n",
              " 'fashion_mnist',\n",
              " 'imdb',\n",
              " 'mnist',\n",
              " 'reuters']"
            ]
          },
          "metadata": {},
          "execution_count": 2
        }
      ]
    },
    {
      "cell_type": "code",
      "source": [
        "dir(keras.datasets.imdb)"
      ],
      "metadata": {
        "colab": {
          "base_uri": "https://localhost:8080/"
        },
        "id": "VtgAhyg7yZrh",
        "outputId": "726a6915-7ba9-4e81-b22f-b5ee93fb33fd"
      },
      "execution_count": 4,
      "outputs": [
        {
          "output_type": "execute_result",
          "data": {
            "text/plain": [
              "['__builtins__',\n",
              " '__cached__',\n",
              " '__doc__',\n",
              " '__file__',\n",
              " '__loader__',\n",
              " '__name__',\n",
              " '__package__',\n",
              " '__path__',\n",
              " '__spec__',\n",
              " 'get_word_index',\n",
              " 'load_data']"
            ]
          },
          "metadata": {},
          "execution_count": 4
        }
      ]
    },
    {
      "cell_type": "code",
      "source": [
        "word_index = keras.datasets.imdb.get_word_index()"
      ],
      "metadata": {
        "colab": {
          "base_uri": "https://localhost:8080/"
        },
        "id": "D8cNc4IZys_u",
        "outputId": "96929ced-d8a9-4a75-b701-b277085a9b8d"
      },
      "execution_count": 6,
      "outputs": [
        {
          "output_type": "stream",
          "name": "stdout",
          "text": [
            "Downloading data from https://storage.googleapis.com/tensorflow/tf-keras-datasets/imdb_word_index.json\n",
            "\u001b[1m1641221/1641221\u001b[0m \u001b[32m━━━━━━━━━━━━━━━━━━━━\u001b[0m\u001b[37m\u001b[0m \u001b[1m0s\u001b[0m 0us/step\n"
          ]
        }
      ]
    },
    {
      "cell_type": "code",
      "source": [
        "dataset = keras.datasets.imdb.load_data()"
      ],
      "metadata": {
        "colab": {
          "base_uri": "https://localhost:8080/"
        },
        "id": "ioZ7alwSyD51",
        "outputId": "ec6562e4-161c-4192-dd55-7b33fe66ed07"
      },
      "execution_count": 5,
      "outputs": [
        {
          "output_type": "stream",
          "name": "stdout",
          "text": [
            "Downloading data from https://storage.googleapis.com/tensorflow/tf-keras-datasets/imdb.npz\n",
            "\u001b[1m17464789/17464789\u001b[0m \u001b[32m━━━━━━━━━━━━━━━━━━━━\u001b[0m\u001b[37m\u001b[0m \u001b[1m0s\u001b[0m 0us/step\n"
          ]
        }
      ]
    },
    {
      "cell_type": "code",
      "source": [
        "type(word_index)"
      ],
      "metadata": {
        "colab": {
          "base_uri": "https://localhost:8080/"
        },
        "id": "xywEVEHryW9b",
        "outputId": "a987dac4-9811-4c6a-f764-9e4a285af905"
      },
      "execution_count": 7,
      "outputs": [
        {
          "output_type": "execute_result",
          "data": {
            "text/plain": [
              "dict"
            ]
          },
          "metadata": {},
          "execution_count": 7
        }
      ]
    },
    {
      "cell_type": "code",
      "source": [
        "word_index['hello']"
      ],
      "metadata": {
        "colab": {
          "base_uri": "https://localhost:8080/"
        },
        "id": "0S4WttO-yxvt",
        "outputId": "13db7f78-8b21-4c85-b1b8-8dedeeca1be8"
      },
      "execution_count": 8,
      "outputs": [
        {
          "output_type": "execute_result",
          "data": {
            "text/plain": [
              "4822"
            ]
          },
          "metadata": {},
          "execution_count": 8
        }
      ]
    },
    {
      "cell_type": "code",
      "source": [
        "len(word_index)"
      ],
      "metadata": {
        "colab": {
          "base_uri": "https://localhost:8080/"
        },
        "id": "lf4lnH24y5zg",
        "outputId": "8a531682-c563-49af-d006-931d0df8a987"
      },
      "execution_count": 9,
      "outputs": [
        {
          "output_type": "execute_result",
          "data": {
            "text/plain": [
              "88584"
            ]
          },
          "metadata": {},
          "execution_count": 9
        }
      ]
    },
    {
      "cell_type": "code",
      "source": [
        "i = 0\n",
        "for k,v in word_index.items():\n",
        "  print(k,v)\n",
        "  i= i + 1\n",
        "  if i ==20:\n",
        "    break"
      ],
      "metadata": {
        "colab": {
          "base_uri": "https://localhost:8080/"
        },
        "id": "MkikpDeyy-0N",
        "outputId": "8dd0dc91-2ef7-485b-d293-378708439e63"
      },
      "execution_count": 12,
      "outputs": [
        {
          "output_type": "stream",
          "name": "stdout",
          "text": [
            "fawn 34701\n",
            "tsukino 52006\n",
            "nunnery 52007\n",
            "sonja 16816\n",
            "vani 63951\n",
            "woods 1408\n",
            "spiders 16115\n",
            "hanging 2345\n",
            "woody 2289\n",
            "trawling 52008\n",
            "hold's 52009\n",
            "comically 11307\n",
            "localized 40830\n",
            "disobeying 30568\n",
            "'royale 52010\n",
            "harpo's 40831\n",
            "canet 52011\n",
            "aileen 19313\n",
            "acurately 52012\n",
            "diplomat's 52013\n"
          ]
        }
      ]
    },
    {
      "cell_type": "code",
      "source": [
        "len(dataset)"
      ],
      "metadata": {
        "colab": {
          "base_uri": "https://localhost:8080/"
        },
        "id": "wi473Us2zM6R",
        "outputId": "9f34d30c-6d83-49ee-dc7f-32ae66c2fca9"
      },
      "execution_count": 13,
      "outputs": [
        {
          "output_type": "execute_result",
          "data": {
            "text/plain": [
              "2"
            ]
          },
          "metadata": {},
          "execution_count": 13
        }
      ]
    },
    {
      "cell_type": "code",
      "source": [
        "len(dataset[0]), len(dataset[1])"
      ],
      "metadata": {
        "colab": {
          "base_uri": "https://localhost:8080/"
        },
        "id": "qdXVX-As0MWB",
        "outputId": "460ef67a-5988-46a0-8e4b-96f521545469"
      },
      "execution_count": 14,
      "outputs": [
        {
          "output_type": "execute_result",
          "data": {
            "text/plain": [
              "(2, 2)"
            ]
          },
          "metadata": {},
          "execution_count": 14
        }
      ]
    },
    {
      "cell_type": "code",
      "source": [
        "len(dataset[0][0]),len(dataset[0][1]), len(dataset[1][0]), len(dataset[1][1])"
      ],
      "metadata": {
        "colab": {
          "base_uri": "https://localhost:8080/"
        },
        "id": "-CTA1pM30RBf",
        "outputId": "5795665b-84c7-4e65-c0e9-3ad08bfecf60"
      },
      "execution_count": 16,
      "outputs": [
        {
          "output_type": "execute_result",
          "data": {
            "text/plain": [
              "(25000, 25000, 25000, 25000)"
            ]
          },
          "metadata": {},
          "execution_count": 16
        }
      ]
    },
    {
      "cell_type": "code",
      "source": [
        "print(dataset[0][0][0]) # first element"
      ],
      "metadata": {
        "colab": {
          "base_uri": "https://localhost:8080/"
        },
        "id": "rF2ItRFE0acA",
        "outputId": "79b7e625-cd7b-4bf1-f448-ff2f546968f1"
      },
      "execution_count": 18,
      "outputs": [
        {
          "output_type": "stream",
          "name": "stdout",
          "text": [
            "[1, 14, 22, 16, 43, 530, 973, 1622, 1385, 65, 458, 4468, 66, 3941, 4, 173, 36, 256, 5, 25, 100, 43, 838, 112, 50, 670, 22665, 9, 35, 480, 284, 5, 150, 4, 172, 112, 167, 21631, 336, 385, 39, 4, 172, 4536, 1111, 17, 546, 38, 13, 447, 4, 192, 50, 16, 6, 147, 2025, 19, 14, 22, 4, 1920, 4613, 469, 4, 22, 71, 87, 12, 16, 43, 530, 38, 76, 15, 13, 1247, 4, 22, 17, 515, 17, 12, 16, 626, 18, 19193, 5, 62, 386, 12, 8, 316, 8, 106, 5, 4, 2223, 5244, 16, 480, 66, 3785, 33, 4, 130, 12, 16, 38, 619, 5, 25, 124, 51, 36, 135, 48, 25, 1415, 33, 6, 22, 12, 215, 28, 77, 52, 5, 14, 407, 16, 82, 10311, 8, 4, 107, 117, 5952, 15, 256, 4, 31050, 7, 3766, 5, 723, 36, 71, 43, 530, 476, 26, 400, 317, 46, 7, 4, 12118, 1029, 13, 104, 88, 4, 381, 15, 297, 98, 32, 2071, 56, 26, 141, 6, 194, 7486, 18, 4, 226, 22, 21, 134, 476, 26, 480, 5, 144, 30, 5535, 18, 51, 36, 28, 224, 92, 25, 104, 4, 226, 65, 16, 38, 1334, 88, 12, 16, 283, 5, 16, 4472, 113, 103, 32, 15, 16, 5345, 19, 178, 32]\n"
          ]
        }
      ]
    },
    {
      "cell_type": "code",
      "source": [
        "print(dataset[0][1][0])"
      ],
      "metadata": {
        "colab": {
          "base_uri": "https://localhost:8080/"
        },
        "id": "8la6mqne0ola",
        "outputId": "93aea1b9-a80f-4614-f90a-0305d2746c0e"
      },
      "execution_count": 24,
      "outputs": [
        {
          "output_type": "stream",
          "name": "stdout",
          "text": [
            "1\n"
          ]
        }
      ]
    },
    {
      "cell_type": "code",
      "source": [
        "print(dataset[1][0][0])"
      ],
      "metadata": {
        "colab": {
          "base_uri": "https://localhost:8080/"
        },
        "id": "MkgAXg7-0v8c",
        "outputId": "40c5a429-2866-4276-d9d0-fd7497d548a9"
      },
      "execution_count": 21,
      "outputs": [
        {
          "output_type": "stream",
          "name": "stdout",
          "text": [
            "[1, 591, 202, 14, 31, 6, 717, 10, 10, 18142, 10698, 5, 4, 360, 7, 4, 177, 5760, 394, 354, 4, 123, 9, 1035, 1035, 1035, 10, 10, 13, 92, 124, 89, 488, 7944, 100, 28, 1668, 14, 31, 23, 27, 7479, 29, 220, 468, 8, 124, 14, 286, 170, 8, 157, 46, 5, 27, 239, 16, 179, 15387, 38, 32, 25, 7944, 451, 202, 14, 6, 717]\n"
          ]
        }
      ]
    },
    {
      "cell_type": "code",
      "source": [
        "print(dataset[1][1][0])"
      ],
      "metadata": {
        "colab": {
          "base_uri": "https://localhost:8080/"
        },
        "id": "USCPy5Xa05PQ",
        "outputId": "66db2b92-49f5-40a1-ec7c-eb9cb09431e6"
      },
      "execution_count": 22,
      "outputs": [
        {
          "output_type": "stream",
          "name": "stdout",
          "text": [
            "0\n"
          ]
        }
      ]
    },
    {
      "cell_type": "code",
      "source": [
        "(train, test) = dataset"
      ],
      "metadata": {
        "id": "Y636HNRT1Ba8"
      },
      "execution_count": 25,
      "outputs": []
    },
    {
      "cell_type": "code",
      "source": [
        "(xtrain, ytrain) = train\n",
        "(xtest, ytest) = test"
      ],
      "metadata": {
        "id": "1acfTwpc1v16"
      },
      "execution_count": 26,
      "outputs": []
    },
    {
      "cell_type": "code",
      "source": [
        "train"
      ],
      "metadata": {
        "colab": {
          "base_uri": "https://localhost:8080/"
        },
        "id": "URZN4jqz12l5",
        "outputId": "69f2340e-f945-41b4-8ff1-ee102abff616"
      },
      "execution_count": 27,
      "outputs": [
        {
          "output_type": "execute_result",
          "data": {
            "text/plain": [
              "(array([list([1, 14, 22, 16, 43, 530, 973, 1622, 1385, 65, 458, 4468, 66, 3941, 4, 173, 36, 256, 5, 25, 100, 43, 838, 112, 50, 670, 22665, 9, 35, 480, 284, 5, 150, 4, 172, 112, 167, 21631, 336, 385, 39, 4, 172, 4536, 1111, 17, 546, 38, 13, 447, 4, 192, 50, 16, 6, 147, 2025, 19, 14, 22, 4, 1920, 4613, 469, 4, 22, 71, 87, 12, 16, 43, 530, 38, 76, 15, 13, 1247, 4, 22, 17, 515, 17, 12, 16, 626, 18, 19193, 5, 62, 386, 12, 8, 316, 8, 106, 5, 4, 2223, 5244, 16, 480, 66, 3785, 33, 4, 130, 12, 16, 38, 619, 5, 25, 124, 51, 36, 135, 48, 25, 1415, 33, 6, 22, 12, 215, 28, 77, 52, 5, 14, 407, 16, 82, 10311, 8, 4, 107, 117, 5952, 15, 256, 4, 31050, 7, 3766, 5, 723, 36, 71, 43, 530, 476, 26, 400, 317, 46, 7, 4, 12118, 1029, 13, 104, 88, 4, 381, 15, 297, 98, 32, 2071, 56, 26, 141, 6, 194, 7486, 18, 4, 226, 22, 21, 134, 476, 26, 480, 5, 144, 30, 5535, 18, 51, 36, 28, 224, 92, 25, 104, 4, 226, 65, 16, 38, 1334, 88, 12, 16, 283, 5, 16, 4472, 113, 103, 32, 15, 16, 5345, 19, 178, 32]),\n",
              "        list([1, 194, 1153, 194, 8255, 78, 228, 5, 6, 1463, 4369, 5012, 134, 26, 4, 715, 8, 118, 1634, 14, 394, 20, 13, 119, 954, 189, 102, 5, 207, 110, 3103, 21, 14, 69, 188, 8, 30, 23, 7, 4, 249, 126, 93, 4, 114, 9, 2300, 1523, 5, 647, 4, 116, 9, 35, 8163, 4, 229, 9, 340, 1322, 4, 118, 9, 4, 130, 4901, 19, 4, 1002, 5, 89, 29, 952, 46, 37, 4, 455, 9, 45, 43, 38, 1543, 1905, 398, 4, 1649, 26, 6853, 5, 163, 11, 3215, 10156, 4, 1153, 9, 194, 775, 7, 8255, 11596, 349, 2637, 148, 605, 15358, 8003, 15, 123, 125, 68, 23141, 6853, 15, 349, 165, 4362, 98, 5, 4, 228, 9, 43, 36893, 1157, 15, 299, 120, 5, 120, 174, 11, 220, 175, 136, 50, 9, 4373, 228, 8255, 5, 25249, 656, 245, 2350, 5, 4, 9837, 131, 152, 491, 18, 46151, 32, 7464, 1212, 14, 9, 6, 371, 78, 22, 625, 64, 1382, 9, 8, 168, 145, 23, 4, 1690, 15, 16, 4, 1355, 5, 28, 6, 52, 154, 462, 33, 89, 78, 285, 16, 145, 95]),\n",
              "        list([1, 14, 47, 8, 30, 31, 7, 4, 249, 108, 7, 4, 5974, 54, 61, 369, 13, 71, 149, 14, 22, 112, 4, 2401, 311, 12, 16, 3711, 33, 75, 43, 1829, 296, 4, 86, 320, 35, 534, 19, 263, 4821, 1301, 4, 1873, 33, 89, 78, 12, 66, 16, 4, 360, 7, 4, 58, 316, 334, 11, 4, 1716, 43, 645, 662, 8, 257, 85, 1200, 42, 1228, 2578, 83, 68, 3912, 15, 36, 165, 1539, 278, 36, 69, 44076, 780, 8, 106, 14, 6905, 1338, 18, 6, 22, 12, 215, 28, 610, 40, 6, 87, 326, 23, 2300, 21, 23, 22, 12, 272, 40, 57, 31, 11, 4, 22, 47, 6, 2307, 51, 9, 170, 23, 595, 116, 595, 1352, 13, 191, 79, 638, 89, 51428, 14, 9, 8, 106, 607, 624, 35, 534, 6, 227, 7, 129, 113]),\n",
              "        ...,\n",
              "        list([1, 11, 6, 230, 245, 6401, 9, 6, 1225, 446, 86527, 45, 2174, 84, 8322, 4007, 21, 4, 912, 84, 14532, 325, 725, 134, 15271, 1715, 84, 5, 36, 28, 57, 1099, 21, 8, 140, 8, 703, 5, 11656, 84, 56, 18, 1644, 14, 9, 31, 7, 4, 9406, 1209, 2295, 26094, 1008, 18, 6, 20, 207, 110, 563, 12, 8, 2901, 17793, 8, 97, 6, 20, 53, 4767, 74, 4, 460, 364, 1273, 29, 270, 11, 960, 108, 45, 40, 29, 2961, 395, 11, 6, 4065, 500, 7, 14492, 89, 364, 70, 29, 140, 4, 64, 4780, 11, 4, 2678, 26, 178, 4, 529, 443, 17793, 5, 27, 710, 117, 74936, 8123, 165, 47, 84, 37, 131, 818, 14, 595, 10, 10, 61, 1242, 1209, 10, 10, 288, 2260, 1702, 34, 2901, 17793, 4, 65, 496, 4, 231, 7, 790, 5, 6, 320, 234, 2766, 234, 1119, 1574, 7, 496, 4, 139, 929, 2901, 17793, 7750, 5, 4241, 18, 4, 8497, 13164, 250, 11, 1818, 7561, 4, 4217, 5408, 747, 1115, 372, 1890, 1006, 541, 9303, 7, 4, 59, 11027, 4, 3586, 22459]),\n",
              "        list([1, 1446, 7079, 69, 72, 3305, 13, 610, 930, 8, 12, 582, 23, 5, 16, 484, 685, 54, 349, 11, 4120, 2959, 45, 58, 1466, 13, 197, 12, 16, 43, 23, 21469, 5, 62, 30, 145, 402, 11, 4131, 51, 575, 32, 61, 369, 71, 66, 770, 12, 1054, 75, 100, 2198, 8, 4, 105, 37, 69, 147, 712, 75, 3543, 44, 257, 390, 5, 69, 263, 514, 105, 50, 286, 1814, 23, 4, 123, 13, 161, 40, 5, 421, 4, 116, 16, 897, 13, 40691, 40, 319, 5872, 112, 6700, 11, 4803, 121, 25, 70, 3468, 4, 719, 3798, 13, 18, 31, 62, 40, 8, 7200, 4, 29455, 7, 14, 123, 5, 942, 25, 8, 721, 12, 145, 5, 202, 12, 160, 580, 202, 12, 6, 52, 58, 11418, 92, 401, 728, 12, 39, 14, 251, 8, 15, 251, 5, 21213, 12, 38, 84, 80, 124, 12, 9, 23]),\n",
              "        list([1, 17, 6, 194, 337, 7, 4, 204, 22, 45, 254, 8, 106, 14, 123, 4, 12815, 270, 14437, 5, 16923, 12255, 732, 2098, 101, 405, 39, 14, 1034, 4, 1310, 9, 115, 50, 305, 12, 47, 4, 168, 5, 235, 7, 38, 111, 699, 102, 7, 4, 4039, 9245, 9, 24, 6, 78, 1099, 17, 2345, 16553, 21, 27, 9685, 6139, 5, 29043, 1603, 92, 1183, 4, 1310, 7, 4, 204, 42, 97, 90, 35, 221, 109, 29, 127, 27, 118, 8, 97, 12, 157, 21, 6789, 85010, 9, 6, 66, 78, 1099, 4, 631, 1191, 5, 2642, 272, 191, 1070, 6, 7585, 8, 2197, 70907, 10755, 544, 5, 383, 1271, 848, 1468, 12183, 497, 16876, 8, 1597, 8778, 19280, 21, 60, 27, 239, 9, 43, 8368, 209, 405, 10, 10, 12, 764, 40, 4, 248, 20, 12, 16, 5, 174, 1791, 72, 7, 51, 6, 1739, 22, 4, 204, 131, 9])],\n",
              "       dtype=object),\n",
              " array([1, 0, 0, ..., 0, 1, 0]))"
            ]
          },
          "metadata": {},
          "execution_count": 27
        }
      ]
    },
    {
      "cell_type": "code",
      "source": [
        "((xtrain, ytrain), (xtest, ytest)) = dataset"
      ],
      "metadata": {
        "id": "-bz_olSK2Jnp"
      },
      "execution_count": 28,
      "outputs": []
    },
    {
      "cell_type": "code",
      "source": [
        "# reverse dictionary\n",
        "\n",
        "rev = {v:k for k, v in word_index.items()}"
      ],
      "metadata": {
        "id": "DPnjqinm2dF8"
      },
      "execution_count": 29,
      "outputs": []
    },
    {
      "cell_type": "code",
      "source": [
        "rev[52012]"
      ],
      "metadata": {
        "colab": {
          "base_uri": "https://localhost:8080/",
          "height": 35
        },
        "id": "4ngJWvuG3PRK",
        "outputId": "7822ed3e-df75-44a6-8a3e-a912e8e22d34"
      },
      "execution_count": 31,
      "outputs": [
        {
          "output_type": "execute_result",
          "data": {
            "text/plain": [
              "'acurately'"
            ],
            "application/vnd.google.colaboratory.intrinsic+json": {
              "type": "string"
            }
          },
          "metadata": {},
          "execution_count": 31
        }
      ]
    },
    {
      "cell_type": "code",
      "source": [
        "def decoder(sentence):\n",
        "  return \" \".join([rev[word] for word in sentence])\n"
      ],
      "metadata": {
        "id": "ANZBE1OC3Qoz"
      },
      "execution_count": 32,
      "outputs": []
    },
    {
      "cell_type": "code",
      "source": [
        "decoder(xtrain[2000])"
      ],
      "metadata": {
        "colab": {
          "base_uri": "https://localhost:8080/",
          "height": 89
        },
        "id": "3VzB9gt43sV1",
        "outputId": "f2e9449e-7aaa-4e0d-eb4d-e1eeb25094ce"
      },
      "execution_count": 33,
      "outputs": [
        {
          "output_type": "execute_result",
          "data": {
            "text/plain": [
              "\"the as on floor or 5 claims course of here have away then also finn think entire love using impression awful another romps if an do time time do i i not series when find that is halleck character that into own have up been that's very older of entire of still i i was had one even eight when her your br when while great than girls minutes as on is whose heated on of their it babs view if up just is must this obligatory cage just fifteen other focus not imagination makes i i to few some but of time time here br of on erhardt\""
            ],
            "application/vnd.google.colaboratory.intrinsic+json": {
              "type": "string"
            }
          },
          "metadata": {},
          "execution_count": 33
        }
      ]
    },
    {
      "cell_type": "code",
      "source": [
        "# SPECIAL TAGS/FLAGS -> are meant to be inserted into our dictionaries and they carry\n",
        "# special meaning or hypertext beyond just english words\n",
        "\n",
        "# what is the start of sentence?\n",
        "# what if i encounter a word not in dictionary?"
      ],
      "metadata": {
        "id": "zfSZZ64L36X3"
      },
      "execution_count": 34,
      "outputs": []
    },
    {
      "cell_type": "code",
      "source": [
        "# TAGS\n",
        "# PAD -> fill up empty spaces-> 0\n",
        "# START -> beginning of input -> 1\n",
        "# UNKNOWN -> a word absent in our dictionary -> 2\n",
        "# UNUSED -> we don't use it -> 3"
      ],
      "metadata": {
        "id": "fGwd1ABX4Qyo"
      },
      "execution_count": null,
      "outputs": []
    },
    {
      "cell_type": "code",
      "source": [
        "rev[1], rev[2], rev[3]"
      ],
      "metadata": {
        "colab": {
          "base_uri": "https://localhost:8080/"
        },
        "id": "VSBZM4Fs4lX9",
        "outputId": "74e1d02f-6aff-4ad2-f5c8-e11be9197ed9"
      },
      "execution_count": 36,
      "outputs": [
        {
          "output_type": "execute_result",
          "data": {
            "text/plain": [
              "('the', 'and', 'a')"
            ]
          },
          "metadata": {},
          "execution_count": 36
        }
      ]
    },
    {
      "cell_type": "code",
      "source": [
        "rev[0]"
      ],
      "metadata": {
        "colab": {
          "base_uri": "https://localhost:8080/",
          "height": 144
        },
        "id": "f8kDS9Jy4mrK",
        "outputId": "23978fa6-e622-4125-8d71-cef7fbf1a2b3"
      },
      "execution_count": 39,
      "outputs": [
        {
          "output_type": "error",
          "ename": "KeyError",
          "evalue": "0",
          "traceback": [
            "\u001b[0;31m---------------------------------------------------------------------------\u001b[0m",
            "\u001b[0;31mKeyError\u001b[0m                                  Traceback (most recent call last)",
            "\u001b[0;32m<ipython-input-39-7a8b981f481d>\u001b[0m in \u001b[0;36m<cell line: 0>\u001b[0;34m()\u001b[0m\n\u001b[0;32m----> 1\u001b[0;31m \u001b[0mrev\u001b[0m\u001b[0;34m[\u001b[0m\u001b[0;36m0\u001b[0m\u001b[0;34m]\u001b[0m\u001b[0;34m\u001b[0m\u001b[0;34m\u001b[0m\u001b[0m\n\u001b[0m",
            "\u001b[0;31mKeyError\u001b[0m: 0"
          ]
        }
      ]
    },
    {
      "cell_type": "code",
      "source": [],
      "metadata": {
        "colab": {
          "base_uri": "https://localhost:8080/"
        },
        "id": "mubBDV_y6OSm",
        "outputId": "49744308-ff3d-4ad2-dc48-142b34832a81"
      },
      "execution_count": 42,
      "outputs": [
        {
          "output_type": "execute_result",
          "data": {
            "text/plain": [
              "1"
            ]
          },
          "metadata": {},
          "execution_count": 42
        }
      ]
    },
    {
      "cell_type": "code",
      "source": [
        "# Now we need to fix our dictionary and have space for pad, start, unknown, unused\n",
        "\n",
        "word_index = {k:(v+3) for k,v in word_index.items()}\n",
        "word_index['<PAD>'] = 0\n",
        "word_index['<START>'] = 1\n",
        "word_index['<UNKNOWN>'] = 2\n",
        "word_index['<UNUSED>'] = 3"
      ],
      "metadata": {
        "id": "bRX5b0Dk5z7b"
      },
      "execution_count": 43,
      "outputs": []
    },
    {
      "cell_type": "code",
      "source": [
        "rev_new = {v:k for k,v in word_index.items()}"
      ],
      "metadata": {
        "id": "9n1S-ZY76a2b"
      },
      "execution_count": 45,
      "outputs": []
    },
    {
      "cell_type": "code",
      "source": [
        "def decoder(sentence):\n",
        "  return \" \".join([rev_new[word] for word in sentence])\n"
      ],
      "metadata": {
        "id": "7n1rH20z6gR_"
      },
      "execution_count": 46,
      "outputs": []
    },
    {
      "cell_type": "code",
      "source": [
        "decoder(xtrain[2000])"
      ],
      "metadata": {
        "colab": {
          "base_uri": "https://localhost:8080/",
          "height": 89
        },
        "id": "t1Sfiff66l_a",
        "outputId": "2de78765-22b9-4225-e639-72a95df699a2"
      },
      "execution_count": 47,
      "outputs": [
        {
          "output_type": "execute_result",
          "data": {
            "text/plain": [
              "\"<START> this movie sucks from beginning till especially the end you probably don't get 'm any worse acting storyline photography camera work etcetera it's all bad very very bad br br but that's what makes it a 'great' watch it will give you more than enough good laughs the worse the better br br i really have no clue what so ever of what these people were thinking making this movie a serious viking movie the story is goddamn ridiculous it's more like a comedy in disguise kinda like mafia also pointless but damn funny br br and look out for the very very end of the movie uhum\""
            ],
            "application/vnd.google.colaboratory.intrinsic+json": {
              "type": "string"
            }
          },
          "metadata": {},
          "execution_count": 47
        }
      ]
    },
    {
      "cell_type": "code",
      "source": [
        "for i in range(2015, 2020):\n",
        "  print(decoder(xtrain[i]))"
      ],
      "metadata": {
        "colab": {
          "base_uri": "https://localhost:8080/"
        },
        "id": "9y-Piz-i6ovE",
        "outputId": "fa04515c-a618-4199-a4ad-c1596f61e774"
      },
      "execution_count": 53,
      "outputs": [
        {
          "output_type": "stream",
          "name": "stdout",
          "text": [
            "<START> the movie's storyline is pat and quaint two women travel through the middle east and discover themselves unfortunately if you are looking for a movie about the middle east and central asia this is absolutely terrible br br the producers of the film either did no research or were unbelievably lazy when filming it to begin with and most glaringly incorrect the nuristanis as they were known in the thirties and indeed since the 1890s and their forceful conversion by abdul rahman shah of aghnaistan were not nomads in fact they have not been nomads since the aryan invasions of central asia over three milenia ago br br second the city that is filmed as tehran is not tehran which is understandable however the geography of the area around the city could not be more strikingly different than the city of tehran which is surrounded on all side by a large mountain range which predominates all of the cities views br br third persian despite the fact it is spoken in iran and afghanistan is never heard in movie when there are native speakers who do not speak in german they speak in arabic the 'persian' guards at the border in fact say to each other 'ma hadha rujal' this is not a man and not 'in mard nist' as it would be in persian also the love song between the indian princess and one of the main characters is obviously in spanish while talking in the garden one of the main characters says that the quran uses the words 'ferdos' and 'jehaan' and makes some reference to drugs afterwords these words certainly never appear in the quran as they are persian for paradise indeed ferdos and paradise are very distant cognates between our languages and 'world' respectively though jehaan is admittedly close to 'jehennan' which is hell in arabic when they encounter the nomads in the desert the language spoken is also arabic this despite the fact that there are no native speakers of arabic in iran and afghanistan and its use is primarily religious with some use in education at that time br br when they are stopped in iran before they reach the afghan border the people they encounter are wholly unlike any iranian group their tents are typically bedouin with carpets decorating the walls and a high profile in iran it is also extremely uncommon for people to wear turbans unless they are a cleric the language spoken is clearly arabic from the initial greeting of 'ahlan wa sahlan ' when they do reach kabul the desert they find themselves in is sandy totally unlike the rock dirt that is found in the arid parts of the hindu kush mountain range there is an absence of the light green scrub that covers the ground in the summer and spring the area is also not wholly consumed by the extreme mountains of the mountain range that won its name the indian killers because of its difficult and limiting ground br br in short the story line is the only thing in this movie that holds any water and it is still weak and common place it lacks any real draw to it being merely the tale of two women trying to learning about themselves as they get to nuristan however even that is still born and no real development is felt leaving the characters in the end just where they were in the beginning and nothing has changed except that world war two has broken loose in short this is a really bad movie that i would have rated at one star except for the good footage of bedouin and the deserts of the levant even if they are misnamed\n",
            "<START> daraar got off to a pretty good start the first scene really left me at the edge of my seat wondering what would happen next other than that the first half of the movie is a total bore all the first half of the movie is about is rishi kapoor falling head over heels in love with juhi chawla by the way don't you think he's a little old for her br br things finally start to spice up towards the middle of the film when juhi tells us about her previous husband and wow what a lunatic is he he was an over protective neat freak with a really hot temper he used to beat up poor juhi for no good reason one of the reasons i really don't like this movie is because i can't stand to see juhi my favorite actress get so abused this film in general has way too much abuse and bloodshed i find it so sickening br br anyway all i'm trying to say is if you're thinking about renting daraar you should put it right back on the shelf where you found it and pick something else\n",
            "<START> i have always been a great admirer of nicolas roeg and walkabout is one of my favorite films this is a film version of roegs stage play and while most of the film takes place in a hotel room it still has some of roegs cinematic flare very unique story is about a famous actress theresa russell who after a hard nights work on a film in 1954 goes to a hotel to visit a famous professor michael emil and together in his hotel room they talk after awhile she wants to go to bed with him but as they start to get undressed her husband is banging on the door her husband is a famous ex baseball player gary busey and he wants to know what is going on the three of them in the hotel room talk about what is going on and what the future holds for them meanwhile a famous senator tony curtis is threatening to take away the professors papers if he doesn't testify at a hearing theresa russell is just excellent and while she's not trying exactly to impersonate marilyn monroe she does a wonderful job of exuding the phobia's and nuances that monroe is very well known for one thing the film does is show her as not only a woman on the verge of a mental breakdown but show her as a physical wreck as well she talks of being unable to have children and at one point in the film she suffers a miscarriage you can make an excellent case that this is russell's best performance and i probably wouldn't argue the film does an interesting thing in showing many flashbacks as the characters continue to talk about one thing and in the flashback we see one of many reasons for their actions busey also gives a good solid performance and it reminds me of what a strong persona he gives off on screen emil as the professor is a character that has many more things on his mind then we originally thought the last scene in this film is a demonstration of his darker side one of the highlights of the film for me is the little conversation he has with the elevator man will sampson of cuckoo's nest and they discuss what cherokee indians think about at all times but of course the famous scene in this film is where russell demonstrates to emil how she does understand the theory of relativity and uses toys to show this the professor is delighted by her demonstration and so are we russell and roeg are married in real life and they do admirable work when they are in collaboration and this is probably their best film together good performances and a very interesting job of directing make this a challenging and visually thought provoking film\n",
            "<START> i waited a while to post a review of this documentary because when i first saw it over 10 years ago i wanted to think carefully about what i wanted to write br br i found from a documentary standpoint that this is a darned good documentary it did what it set out to do show me something i had no idea about and kept me interested in this world it explored i knew nothing of the drag world and finding out about them and the balls was just spectacular to me these folks were just so talented with what they do and how they do it for competition the catty folks the complainers even i was angry when someone told the judge that the coat the drag queen was wearing wasn't a man's coat the jealous it's all there like in every other competition like every other competition like it which i felt was a point br br you had the older drag queen talking about how the balls used to be compared to the newer drag queens who have changed the balls and made more competition categories and even those who looked on knowing that the future of balls would change even more when they were ready to walk the runway it was interesting to hear that some of the contestants were living out on the street two minutes before the ball but came to compete it was that important to them then there was sad stories stories of who's house and house mother brought out the best and the brightest in competition it was interesting br br now to add after 10 years of seeing this film i lived through the so called 'madonna' craze i spotted a few familiar faces from this documentary who ended up with madonna during her vogue phase and rightfully so if not for those individuals madonna wouldn't have had a vogue phase i know that now credit should be given where credit is due makes me wonder if anyone else from mainstream america would watch this documentary they'll learn they're not as mainstream as they think\n",
            "<START> slight spoilers br br a hunchback 15 year old boy kisses a very cute 15 year old girl and eventually he has sex for the first time after the act he lays in the bed with her not touching her the next day he concludes that he does not like sex much and does not want to try it again for at least a few years br br this is seemingly a fine opening for a teleplay about a boy discovering his homosexuality or perhaps a medical drama about a post pubescent teen with a severe hormone deficiency br br however as the plot develops what emerges is a story of a 15 year old father who is supported and encouraged by his overbearing mother br br at one point his mother preaches to her co workers who are not as understanding as they might be every step of the way in this my son has been amazing i have never been more proud of him br br the young father's older sister who otherwise is cold towards her brother begins to show pride in her sibling you have been cool about this as she gives him an encouraging warm hug br br the 15 year old father wants to be a father he wants to be a parent br br why not we see the new baby a few minutes after birth it appears to be a healthy happy 4 month old infant just as babies were born on tv in the 1960's and 1970's br br once the young father is a parent he has found happiness he insists he will be the one to change the dirty diaper we see the 15 year old father sincerely happy holding his baby while the teen's busy body mother is peaking over his shoulder fade to black\n"
          ]
        }
      ]
    },
    {
      "cell_type": "code",
      "source": [
        "for i in range(2015, 2020):\n",
        "  print(ytrain[i])"
      ],
      "metadata": {
        "colab": {
          "base_uri": "https://localhost:8080/"
        },
        "id": "eI0lfbGq64cZ",
        "outputId": "7c8b2fc3-5bf4-48bd-a66e-fdc211da1bef"
      },
      "execution_count": 54,
      "outputs": [
        {
          "output_type": "stream",
          "name": "stdout",
          "text": [
            "0\n",
            "0\n",
            "1\n",
            "1\n",
            "0\n"
          ]
        }
      ]
    },
    {
      "cell_type": "code",
      "source": [
        "for i in range(2015, 2020): # are sentences of the same length?\n",
        "  print(len(xtrain[i]))"
      ],
      "metadata": {
        "colab": {
          "base_uri": "https://localhost:8080/"
        },
        "id": "vl3albHB7G9R",
        "outputId": "c091ba62-3777-4377-cf82-60e14ecb15c9"
      },
      "execution_count": 55,
      "outputs": [
        {
          "output_type": "stream",
          "name": "stdout",
          "text": [
            "624\n",
            "196\n",
            "475\n",
            "356\n",
            "308\n"
          ]
        }
      ]
    },
    {
      "cell_type": "code",
      "source": [
        "xtrain_norm = keras.preprocessing.sequence.pad_sequences(maxlen=256,\n",
        "                                                         padding='post',\n",
        "                                                         truncating='post',\n",
        "                                                         sequences=xtrain,\n",
        "                                                         value=0)"
      ],
      "metadata": {
        "id": "N_EKriS68Kra"
      },
      "execution_count": 56,
      "outputs": []
    },
    {
      "cell_type": "code",
      "source": [
        "for i in range(2015, 2020): # are sentences of the same length?\n",
        "  print(len(xtrain_norm[i]))"
      ],
      "metadata": {
        "colab": {
          "base_uri": "https://localhost:8080/"
        },
        "id": "ENKxexww9Rag",
        "outputId": "7db49118-c5c3-44a2-d233-14208959afd5"
      },
      "execution_count": 57,
      "outputs": [
        {
          "output_type": "stream",
          "name": "stdout",
          "text": [
            "256\n",
            "256\n",
            "256\n",
            "256\n",
            "256\n"
          ]
        }
      ]
    },
    {
      "cell_type": "code",
      "source": [
        "for i in range(2015, 2020):\n",
        "  print(decoder(xtrain_norm[i]))"
      ],
      "metadata": {
        "colab": {
          "base_uri": "https://localhost:8080/"
        },
        "id": "ToBxPzva9UsK",
        "outputId": "1b11626f-3035-4004-9e22-eb47d4b9939e"
      },
      "execution_count": 58,
      "outputs": [
        {
          "output_type": "stream",
          "name": "stdout",
          "text": [
            "<START> the movie's storyline is pat and quaint two women travel through the middle east and discover themselves unfortunately if you are looking for a movie about the middle east and central asia this is absolutely terrible br br the producers of the film either did no research or were unbelievably lazy when filming it to begin with and most glaringly incorrect the nuristanis as they were known in the thirties and indeed since the 1890s and their forceful conversion by abdul rahman shah of aghnaistan were not nomads in fact they have not been nomads since the aryan invasions of central asia over three milenia ago br br second the city that is filmed as tehran is not tehran which is understandable however the geography of the area around the city could not be more strikingly different than the city of tehran which is surrounded on all side by a large mountain range which predominates all of the cities views br br third persian despite the fact it is spoken in iran and afghanistan is never heard in movie when there are native speakers who do not speak in german they speak in arabic the 'persian' guards at the border in fact say to each other 'ma hadha rujal' this is not a man and not 'in mard nist' as it would be in persian also the love song between the indian princess and one of the main characters is obviously in spanish while talking in the garden one of the main characters says that\n",
            "<START> daraar got off to a pretty good start the first scene really left me at the edge of my seat wondering what would happen next other than that the first half of the movie is a total bore all the first half of the movie is about is rishi kapoor falling head over heels in love with juhi chawla by the way don't you think he's a little old for her br br things finally start to spice up towards the middle of the film when juhi tells us about her previous husband and wow what a lunatic is he he was an over protective neat freak with a really hot temper he used to beat up poor juhi for no good reason one of the reasons i really don't like this movie is because i can't stand to see juhi my favorite actress get so abused this film in general has way too much abuse and bloodshed i find it so sickening br br anyway all i'm trying to say is if you're thinking about renting daraar you should put it right back on the shelf where you found it and pick something else <PAD> <PAD> <PAD> <PAD> <PAD> <PAD> <PAD> <PAD> <PAD> <PAD> <PAD> <PAD> <PAD> <PAD> <PAD> <PAD> <PAD> <PAD> <PAD> <PAD> <PAD> <PAD> <PAD> <PAD> <PAD> <PAD> <PAD> <PAD> <PAD> <PAD> <PAD> <PAD> <PAD> <PAD> <PAD> <PAD> <PAD> <PAD> <PAD> <PAD> <PAD> <PAD> <PAD> <PAD> <PAD> <PAD> <PAD> <PAD> <PAD> <PAD> <PAD> <PAD> <PAD> <PAD> <PAD> <PAD> <PAD> <PAD> <PAD> <PAD>\n",
            "<START> i have always been a great admirer of nicolas roeg and walkabout is one of my favorite films this is a film version of roegs stage play and while most of the film takes place in a hotel room it still has some of roegs cinematic flare very unique story is about a famous actress theresa russell who after a hard nights work on a film in 1954 goes to a hotel to visit a famous professor michael emil and together in his hotel room they talk after awhile she wants to go to bed with him but as they start to get undressed her husband is banging on the door her husband is a famous ex baseball player gary busey and he wants to know what is going on the three of them in the hotel room talk about what is going on and what the future holds for them meanwhile a famous senator tony curtis is threatening to take away the professors papers if he doesn't testify at a hearing theresa russell is just excellent and while she's not trying exactly to impersonate marilyn monroe she does a wonderful job of exuding the phobia's and nuances that monroe is very well known for one thing the film does is show her as not only a woman on the verge of a mental breakdown but show her as a physical wreck as well she talks of being unable to have children and at one point in the film she suffers a miscarriage you can\n",
            "<START> i waited a while to post a review of this documentary because when i first saw it over 10 years ago i wanted to think carefully about what i wanted to write br br i found from a documentary standpoint that this is a darned good documentary it did what it set out to do show me something i had no idea about and kept me interested in this world it explored i knew nothing of the drag world and finding out about them and the balls was just spectacular to me these folks were just so talented with what they do and how they do it for competition the catty folks the complainers even i was angry when someone told the judge that the coat the drag queen was wearing wasn't a man's coat the jealous it's all there like in every other competition like every other competition like it which i felt was a point br br you had the older drag queen talking about how the balls used to be compared to the newer drag queens who have changed the balls and made more competition categories and even those who looked on knowing that the future of balls would change even more when they were ready to walk the runway it was interesting to hear that some of the contestants were living out on the street two minutes before the ball but came to compete it was that important to them then there was sad stories stories of who's house and house\n",
            "<START> slight spoilers br br a hunchback 15 year old boy kisses a very cute 15 year old girl and eventually he has sex for the first time after the act he lays in the bed with her not touching her the next day he concludes that he does not like sex much and does not want to try it again for at least a few years br br this is seemingly a fine opening for a teleplay about a boy discovering his homosexuality or perhaps a medical drama about a post pubescent teen with a severe hormone deficiency br br however as the plot develops what emerges is a story of a 15 year old father who is supported and encouraged by his overbearing mother br br at one point his mother preaches to her co workers who are not as understanding as they might be every step of the way in this my son has been amazing i have never been more proud of him br br the young father's older sister who otherwise is cold towards her brother begins to show pride in her sibling you have been cool about this as she gives him an encouraging warm hug br br the 15 year old father wants to be a father he wants to be a parent br br why not we see the new baby a few minutes after birth it appears to be a healthy happy 4 month old infant just as babies were born on tv in the 1960's and\n"
          ]
        }
      ]
    },
    {
      "cell_type": "code",
      "source": [
        "for i in range(2015, 2020):\n",
        "  print(xtrain_norm[i])"
      ],
      "metadata": {
        "colab": {
          "base_uri": "https://localhost:8080/"
        },
        "id": "uNN-VJPf9bG1",
        "outputId": "55df0f54-0ec0-4b26-88cf-1aadf0ed3dbf"
      },
      "execution_count": 59,
      "outputs": [
        {
          "output_type": "stream",
          "name": "stdout",
          "text": [
            "[    1     4  1327   769     9  3332     5  8096   107   372  2106   143\n",
            "     4   655  2924     5  1974   533   472    48    25    26   267    18\n",
            "     6    20    44     4   655  2924     5  1375  6490    14     9   427\n",
            "   394    10    10     4  1180     7     4    22   345   122    57  2301\n",
            "    42    71  3813  2874    54  1423    12     8   895    19     5    91\n",
            " 17844  6670     4 54022    17    36    71   573    11     4  6227     5\n",
            "   849   237     4 28178     5    68 19206 13613    34 37093 33252  7929\n",
            "     7 82930    71    24 25473    11   192    36    28    24    77 25473\n",
            "   237     4 18173 20309     7  1375  6490   120   289 71897   596    10\n",
            "    10   333     4   543    15     9   814    17 21248     9    24 21248\n",
            "    63     9  4394   190     4 13334     7     4  1609   187     4   543\n",
            "   100    24    30    53  9546   275    74     4   543     7 21248    63\n",
            "     9  3391    23    32   499    34     6  1058  2527  2202    63 49692\n",
            "    32     7     4  4803  2692    10    10   840 23395   466     4   192\n",
            "    12     9  2850    11  4794     5  9031     9   115   557    11    20\n",
            "    54    50    26  2174 11139    37    81    24  1128    11  1124    36\n",
            "  1128    11 11131     4 64560  6162    33     4  3623    11   192   135\n",
            "     8   257    85 65761 86419 85580    14     9    24     6   132     5\n",
            "    24 13595 21178 73854    17    12    62    30    11 23395    82     4\n",
            "   119   613   200     4  1395  2549     5    31     7     4   293   105\n",
            "     9   540    11  1875   137   662    11     4  4056    31     7     4\n",
            "   293   105   560    15]\n",
            "[    1 38441   188   125     8     6   184    52   380     4    86   136\n",
            "    66   317    72    33     4  1289     7    61  2224  1535    51    62\n",
            "   593   375    85    74    15     4    86   320     7     4    20     9\n",
            "     6   964  2696    32     4    86   320     7     4    20     9    44\n",
            "     9 22186  4029  1454   419   120  6055    11   119    19 15920 15626\n",
            "    34     4    96    92    25   104   240     6   117   154    18    41\n",
            "    10    10   183   417   380     8  6711    56   949     4   655     7\n",
            "     4    22    54 15920   716   178    44    41   960   658     5  1318\n",
            "    51     6  7472     9    29    29    16    35   120  7715  3150  3841\n",
            "    19     6    66   893  7885    29   343     8  1559    56   338 15920\n",
            "    18    57    52   282    31     7     4  1007    13    66    92    40\n",
            "    14    20     9    88    13   191   759     8    67 15920    61   514\n",
            "   524    79    38  5233    14    22    11   831    47    96    99    76\n",
            "  2569     5  8482    13   169    12    38  6853    10    10   553    32\n",
            "   146   269     8   135     9    48   335   536    44  2753 38441    25\n",
            "   144   276    12   208   145    23     4  4200   121    25   258    12\n",
            "     5  1261   142   334     0     0     0     0     0     0     0     0\n",
            "     0     0     0     0     0     0     0     0     0     0     0     0\n",
            "     0     0     0     0     0     0     0     0     0     0     0     0\n",
            "     0     0     0     0     0     0     0     0     0     0     0     0\n",
            "     0     0     0     0     0     0     0     0     0     0     0     0\n",
            "     0     0     0     0]\n",
            "[    1    13    28   210    77     6    87  8005     7  5622 13500     5\n",
            " 35983     9    31     7    61   514   108    14     9     6    22   310\n",
            "     7 47328   868   297     5   137    91     7     4    22   304   273\n",
            "    11     6  1455   673    12   131    47    49     7 47328  1360 11080\n",
            "    55   955    65     9    44     6   804   524 12456  2609    37   103\n",
            "     6   254  3527   157    23     6    22    11  9723   271     8     6\n",
            "  1455     8  1980     6   804  2489   488 10747     5   295    11    27\n",
            "  1455   673    36   740   103  5236    59   494     8   140     8  1445\n",
            "    19    90    21    17    36   380     8    79 17315    41   658     9\n",
            " 12140    23     4  1312    41   658     9     6   804  1233  2361  1799\n",
            "  1998  6927     5    29   494     8   124    51     9   170    23     4\n",
            "   289     7    98    11     4  1455   673   740    44    51     9   170\n",
            "    23     5    51     4   705  1777    18    98  2086     6   804  8258\n",
            "  1223  3378     9  3556     8   193   245     4 14904  6806    48    29\n",
            "   152 19047    33     6  2231 12456  2609     9    43   321     5   137\n",
            "   442    24   269   618     8 15722  6928  8250    59   127     6   389\n",
            "   292     7 35028     4 66511     5  6902    15  8250     9    55    73\n",
            "   573    18    31   155     4    22   127     9   123    41    17    24\n",
            "    64     6   255    23     4  7839     7     6  1752  6508    21   123\n",
            "    41    17     6  1748  3526    17    73    59  2326     7   112  2103\n",
            "     8    28   476     5    33    31   213    11     4    22    59  2478\n",
            "     6 16750    25    70]\n",
            "[    1    13  4465     6   137     8  1208     6   733     7    14   664\n",
            "    88    54    13    86   219    12   120   158   153   596    13   473\n",
            "     8   104  3398    44    51    13   473     8   901    10    10    13\n",
            "   258    39     6   664  8456    15    14     9     6 22057    52   664\n",
            "    12   122    51    12   270    46     8    81   123    72   142    13\n",
            "    69    57   326    44     5   828    72   928    11    14   182    12\n",
            "  4087    13   697   164     7     4  2389   182     5  1556    46    44\n",
            "    98     5     4  4668    16    43  2093     8    72   134  1588    71\n",
            "    43    38  1020    19    51    36    81     5    89    36    81    12\n",
            "    18  3533     4 23933  1588     4 52030    60    13    16  1612    54\n",
            "   294   579     4  1919    15     4  6126     4  2389  1652    16  1658\n",
            "   286     6  1601  6126     4  3683    45    32    50    40    11   175\n",
            "    85  3533    40   175    85  3533    40    12    63    13   421    16\n",
            "     6   213    10    10    25    69     4   922  2389  1652   662    44\n",
            "    89     4  4668   343     8    30  1079     8     4  5954  2389  8366\n",
            "    37    28  1194     4  4668     5    93    53  3533  8312     5    60\n",
            "   148    37   610    23  1275    15     4   705     7  4668    62   653\n",
            "    60    53    54    36    71  1623     8  1135     4 20370    12    16\n",
            "   221     8   842    15    49     7     4  6955    71   581    46    23\n",
            "     4   890   107   234   159     4  1871    21   385     8  6113    12\n",
            "    16    15   674     8    98    95    50    16   619   537   537     7\n",
            "   871   313     5   313]\n",
            "[    1  3382  1028    10    10     6 13943  1119   291   154   430  9893\n",
            "     6    55  1036  1119   291   154   250     5   853    29    47   383\n",
            "    18     4    86    58   103     4   511    29  8710    11     4  1445\n",
            "    19    41    24  1301    41     4   375   251    29  9228    15    29\n",
            "   127    24    40   383    76     5   127    24   181     8   353    12\n",
            "   174    18    33   222     6   171   153    10    10    14     9  1573\n",
            "     6   478   636    18     6 19821    44     6   430  5369    27  6250\n",
            "    42   382     6  3123   453    44     6  1208 15859  1629    19     6\n",
            "  4376 22446 32719    10    10   190    17     4   114  3209    51  5668\n",
            "     9     6    65     7     6  1119   291   154   336    37     9  5067\n",
            "     5  8059    34    27  7461   452    10    10    33    31   213    27\n",
            "   452 21606     8    41  1001  3010    37    26    24    17  1897    17\n",
            "    36   238    30   175  1491     7     4    96    11    14    61   492\n",
            "    47    77   480    13    28   115    77    53  2606     7    90    10\n",
            "    10     4   185  2813   922   799    37   900     9  1043   949    41\n",
            "   597   778     8   123  3114    11    41  8337    25    28    77   646\n",
            "    44    14    17    59   408    90    35 10819  2272  9144    10    10\n",
            "     4  1119   291   154   336   494     8    30     6   336    29   494\n",
            "     8    30     6  4069    10    10   138    24    75    67     4   162\n",
            "   896     6   171   234   103  2540    12   739     8    30     6  6064\n",
            "   654   470  3241   154 10425    43    17  5412    71  1447    23   248\n",
            "    11     4  5581     5]\n"
          ]
        }
      ]
    },
    {
      "cell_type": "code",
      "source": [
        "# WORDS -> that are numbers -> they carry hidden meaning!\n",
        "\n",
        "# Understand input ---- Deep Learning\n",
        "# Deep learning -> minimum of 2 layers that are fully connected to each other!\n",
        "\n",
        "# In tensorflow, fully connected layers are referred to as Dense Layers\n",
        "\n",
        "\n",
        "# in order to understand input, we need to have a layer that can break words and find\n",
        "# vectors inside those words\n",
        "\n",
        "# then these vectors will be passed to Dense Layers for pattern recognition\n",
        "\n"
      ],
      "metadata": {
        "id": "QcJX8gVO9kgr"
      },
      "execution_count": null,
      "outputs": []
    },
    {
      "cell_type": "code",
      "source": [
        "\n",
        "((xtrain, ytrain), (xtest, ytest)) = keras.datasets.imdb.load_data(num_words=10000)"
      ],
      "metadata": {
        "id": "crFOJ0aXLSLm"
      },
      "execution_count": 114,
      "outputs": []
    },
    {
      "cell_type": "code",
      "source": [
        "xtrain_norm = keras.preprocessing.sequence.pad_sequences(maxlen=256,\n",
        "                                                         padding='post',\n",
        "                                                         truncating='post',\n",
        "                                                         sequences=xtrain,\n",
        "                                                         value=0)\n",
        "xtest_norm = keras.preprocessing.sequence.pad_sequences(maxlen=256,\n",
        "                                                         padding='post',\n",
        "                                                         truncating='post',\n",
        "                                                         sequences=xtest,\n",
        "                                                         value=0)"
      ],
      "metadata": {
        "id": "B0v4NLEJLpfi"
      },
      "execution_count": 115,
      "outputs": []
    },
    {
      "cell_type": "code",
      "source": [
        "for i in range(2015, 2020):\n",
        "  print(decoder(xtrain_norm[i]))"
      ],
      "metadata": {
        "colab": {
          "base_uri": "https://localhost:8080/"
        },
        "id": "wEXeeYAXL1rj",
        "outputId": "fdb3de43-7af3-414a-dfea-027161adb0bf"
      },
      "execution_count": 116,
      "outputs": [
        {
          "output_type": "stream",
          "name": "stdout",
          "text": [
            "<START> the movie's storyline is pat and quaint two women travel through the middle east and discover themselves unfortunately if you are looking for a movie about the middle east and central asia this is absolutely terrible br br the producers of the film either did no research or were unbelievably lazy when filming it to begin with and most <UNKNOWN> incorrect the <UNKNOWN> as they were known in the thirties and indeed since the <UNKNOWN> and their <UNKNOWN> <UNKNOWN> by <UNKNOWN> <UNKNOWN> shah of <UNKNOWN> were not <UNKNOWN> in fact they have not been <UNKNOWN> since the <UNKNOWN> <UNKNOWN> of central asia over three <UNKNOWN> ago br br second the city that is filmed as <UNKNOWN> is not <UNKNOWN> which is understandable however the <UNKNOWN> of the area around the city could not be more strikingly different than the city of <UNKNOWN> which is surrounded on all side by a large mountain range which <UNKNOWN> all of the cities views br br third <UNKNOWN> despite the fact it is spoken in iran and afghanistan is never heard in movie when there are native <UNKNOWN> who do not speak in german they speak in <UNKNOWN> the <UNKNOWN> guards at the border in fact say to each other <UNKNOWN> <UNKNOWN> <UNKNOWN> this is not a man and not <UNKNOWN> <UNKNOWN> <UNKNOWN> as it would be in <UNKNOWN> also the love song between the indian princess and one of the main characters is obviously in spanish while talking in the garden one of the main characters says that\n",
            "<START> <UNKNOWN> got off to a pretty good start the first scene really left me at the edge of my seat wondering what would happen next other than that the first half of the movie is a total bore all the first half of the movie is about is <UNKNOWN> kapoor falling head over heels in love with <UNKNOWN> <UNKNOWN> by the way don't you think he's a little old for her br br things finally start to spice up towards the middle of the film when <UNKNOWN> tells us about her previous husband and wow what a lunatic is he he was an over protective neat freak with a really hot temper he used to beat up poor <UNKNOWN> for no good reason one of the reasons i really don't like this movie is because i can't stand to see <UNKNOWN> my favorite actress get so abused this film in general has way too much abuse and bloodshed i find it so sickening br br anyway all i'm trying to say is if you're thinking about renting <UNKNOWN> you should put it right back on the shelf where you found it and pick something else <PAD> <PAD> <PAD> <PAD> <PAD> <PAD> <PAD> <PAD> <PAD> <PAD> <PAD> <PAD> <PAD> <PAD> <PAD> <PAD> <PAD> <PAD> <PAD> <PAD> <PAD> <PAD> <PAD> <PAD> <PAD> <PAD> <PAD> <PAD> <PAD> <PAD> <PAD> <PAD> <PAD> <PAD> <PAD> <PAD> <PAD> <PAD> <PAD> <PAD> <PAD> <PAD> <PAD> <PAD> <PAD> <PAD> <PAD> <PAD> <PAD> <PAD> <PAD> <PAD> <PAD> <PAD> <PAD> <PAD> <PAD> <PAD> <PAD> <PAD>\n",
            "<START> i have always been a great admirer of nicolas <UNKNOWN> and <UNKNOWN> is one of my favorite films this is a film version of <UNKNOWN> stage play and while most of the film takes place in a hotel room it still has some of <UNKNOWN> cinematic <UNKNOWN> very unique story is about a famous actress <UNKNOWN> russell who after a hard nights work on a film in 1954 goes to a hotel to visit a famous professor michael <UNKNOWN> and together in his hotel room they talk after awhile she wants to go to bed with him but as they start to get <UNKNOWN> her husband is <UNKNOWN> on the door her husband is a famous ex baseball player gary busey and he wants to know what is going on the three of them in the hotel room talk about what is going on and what the future holds for them meanwhile a famous senator tony curtis is threatening to take away the <UNKNOWN> papers if he doesn't <UNKNOWN> at a hearing <UNKNOWN> russell is just excellent and while she's not trying exactly to <UNKNOWN> marilyn monroe she does a wonderful job of <UNKNOWN> the <UNKNOWN> and nuances that monroe is very well known for one thing the film does is show her as not only a woman on the verge of a mental breakdown but show her as a physical wreck as well she talks of being unable to have children and at one point in the film she suffers a <UNKNOWN> you can\n",
            "<START> i waited a while to post a review of this documentary because when i first saw it over 10 years ago i wanted to think carefully about what i wanted to write br br i found from a documentary standpoint that this is a <UNKNOWN> good documentary it did what it set out to do show me something i had no idea about and kept me interested in this world it explored i knew nothing of the drag world and finding out about them and the balls was just spectacular to me these folks were just so talented with what they do and how they do it for competition the <UNKNOWN> folks the <UNKNOWN> even i was angry when someone told the judge that the coat the drag queen was wearing wasn't a man's coat the jealous it's all there like in every other competition like every other competition like it which i felt was a point br br you had the older drag queen talking about how the balls used to be compared to the newer drag queens who have changed the balls and made more competition categories and even those who looked on knowing that the future of balls would change even more when they were ready to walk the <UNKNOWN> it was interesting to hear that some of the contestants were living out on the street two minutes before the ball but came to compete it was that important to them then there was sad stories stories of who's house and house\n",
            "<START> slight spoilers br br a <UNKNOWN> 15 year old boy kisses a very cute 15 year old girl and eventually he has sex for the first time after the act he lays in the bed with her not touching her the next day he concludes that he does not like sex much and does not want to try it again for at least a few years br br this is seemingly a fine opening for a <UNKNOWN> about a boy discovering his homosexuality or perhaps a medical drama about a post <UNKNOWN> teen with a severe <UNKNOWN> <UNKNOWN> br br however as the plot develops what emerges is a story of a 15 year old father who is supported and encouraged by his overbearing mother br br at one point his mother <UNKNOWN> to her co workers who are not as understanding as they might be every step of the way in this my son has been amazing i have never been more proud of him br br the young father's older sister who otherwise is cold towards her brother begins to show pride in her sibling you have been cool about this as she gives him an <UNKNOWN> warm hug br br the 15 year old father wants to be a father he wants to be a parent br br why not we see the new baby a few minutes after birth it appears to be a healthy happy 4 month old <UNKNOWN> just as babies were born on tv in the 1960's and\n"
          ]
        }
      ]
    },
    {
      "cell_type": "code",
      "source": [
        "from keras.layers import Embedding, GlobalAvgPool1D, Dense"
      ],
      "metadata": {
        "id": "z2hChqMRL6xE"
      },
      "execution_count": 117,
      "outputs": []
    },
    {
      "cell_type": "code",
      "source": [
        "layer11 = Embedding(input_dim=10000, output_dim=16, input_length=256)\n",
        "layer12 = GlobalAvgPool1D()\n",
        "layer13 = Dense(16)\n",
        "layer14 = Dense(32)\n",
        "layer15 = Dense(1) # OUTPUT SIZE IS ALWAYS FIXED-> based on number of classes, or 1 for regression!\n",
        "\n",
        "model1 = keras.Sequential([layer11, layer12, layer13, layer14, layer15])"
      ],
      "metadata": {
        "id": "yfN7VBmfMga7"
      },
      "execution_count": 125,
      "outputs": []
    },
    {
      "cell_type": "code",
      "source": [
        "layer21 = Embedding(input_dim=10000, output_dim=16, input_length=256)\n",
        "layer22 = GlobalAvgPool1D()\n",
        "layer23 = Dense(256)\n",
        "layer24 = Dense(512)\n",
        "layer25 = Dense(1) # OUTPUT SIZE IS ALWAYS FIXED-> based on number of classes, or 1 for regression!\n",
        "\n",
        "model2 = keras.Sequential([layer21, layer22, layer23, layer24, layer25])"
      ],
      "metadata": {
        "id": "dEu2e2P5OHP9"
      },
      "execution_count": 126,
      "outputs": []
    },
    {
      "cell_type": "code",
      "source": [
        "model1.compile(loss='binary_crossentropy', optimizer='adam', metrics=['accuracy'])"
      ],
      "metadata": {
        "id": "s26jUz_xOvOm"
      },
      "execution_count": 127,
      "outputs": []
    },
    {
      "cell_type": "code",
      "source": [
        "model2.compile(loss='binary_crossentropy', optimizer='adam', metrics=['accuracy'])"
      ],
      "metadata": {
        "id": "WUUbSMJfQMFn"
      },
      "execution_count": 128,
      "outputs": []
    },
    {
      "cell_type": "code",
      "source": [
        "history1 = model1.fit(xtrain_norm, ytrain, epochs=20)"
      ],
      "metadata": {
        "colab": {
          "base_uri": "https://localhost:8080/"
        },
        "id": "j3ezcw5LQVmo",
        "outputId": "23c33b4f-86d9-4da2-884a-0bcc6a5f095d"
      },
      "execution_count": 129,
      "outputs": [
        {
          "output_type": "stream",
          "name": "stdout",
          "text": [
            "Epoch 1/20\n",
            "\u001b[1m782/782\u001b[0m \u001b[32m━━━━━━━━━━━━━━━━━━━━\u001b[0m\u001b[37m\u001b[0m \u001b[1m5s\u001b[0m 4ms/step - accuracy: 0.6146 - loss: 0.7954\n",
            "Epoch 2/20\n",
            "\u001b[1m782/782\u001b[0m \u001b[32m━━━━━━━━━━━━━━━━━━━━\u001b[0m\u001b[37m\u001b[0m \u001b[1m3s\u001b[0m 4ms/step - accuracy: 0.7959 - loss: 0.4688\n",
            "Epoch 3/20\n",
            "\u001b[1m782/782\u001b[0m \u001b[32m━━━━━━━━━━━━━━━━━━━━\u001b[0m\u001b[37m\u001b[0m \u001b[1m6s\u001b[0m 5ms/step - accuracy: 0.8422 - loss: 0.7012\n",
            "Epoch 4/20\n",
            "\u001b[1m782/782\u001b[0m \u001b[32m━━━━━━━━━━━━━━━━━━━━\u001b[0m\u001b[37m\u001b[0m \u001b[1m3s\u001b[0m 4ms/step - accuracy: 0.8774 - loss: 0.3660\n",
            "Epoch 5/20\n",
            "\u001b[1m782/782\u001b[0m \u001b[32m━━━━━━━━━━━━━━━━━━━━\u001b[0m\u001b[37m\u001b[0m \u001b[1m3s\u001b[0m 4ms/step - accuracy: 0.8077 - loss: 1.8462\n",
            "Epoch 6/20\n",
            "\u001b[1m782/782\u001b[0m \u001b[32m━━━━━━━━━━━━━━━━━━━━\u001b[0m\u001b[37m\u001b[0m \u001b[1m6s\u001b[0m 5ms/step - accuracy: 0.9003 - loss: 0.3760\n",
            "Epoch 7/20\n",
            "\u001b[1m782/782\u001b[0m \u001b[32m━━━━━━━━━━━━━━━━━━━━\u001b[0m\u001b[37m\u001b[0m \u001b[1m3s\u001b[0m 4ms/step - accuracy: 0.9215 - loss: 0.2468\n",
            "Epoch 8/20\n",
            "\u001b[1m782/782\u001b[0m \u001b[32m━━━━━━━━━━━━━━━━━━━━\u001b[0m\u001b[37m\u001b[0m \u001b[1m3s\u001b[0m 4ms/step - accuracy: 0.9194 - loss: 0.2426\n",
            "Epoch 9/20\n",
            "\u001b[1m782/782\u001b[0m \u001b[32m━━━━━━━━━━━━━━━━━━━━\u001b[0m\u001b[37m\u001b[0m \u001b[1m4s\u001b[0m 5ms/step - accuracy: 0.8805 - loss: 1.0408\n",
            "Epoch 10/20\n",
            "\u001b[1m782/782\u001b[0m \u001b[32m━━━━━━━━━━━━━━━━━━━━\u001b[0m\u001b[37m\u001b[0m \u001b[1m6s\u001b[0m 5ms/step - accuracy: 0.6444 - loss: 5.3305\n",
            "Epoch 11/20\n",
            "\u001b[1m782/782\u001b[0m \u001b[32m━━━━━━━━━━━━━━━━━━━━\u001b[0m\u001b[37m\u001b[0m \u001b[1m4s\u001b[0m 5ms/step - accuracy: 0.6521 - loss: 5.2292\n",
            "Epoch 12/20\n",
            "\u001b[1m782/782\u001b[0m \u001b[32m━━━━━━━━━━━━━━━━━━━━\u001b[0m\u001b[37m\u001b[0m \u001b[1m4s\u001b[0m 5ms/step - accuracy: 0.6796 - loss: 4.6288\n",
            "Epoch 13/20\n",
            "\u001b[1m782/782\u001b[0m \u001b[32m━━━━━━━━━━━━━━━━━━━━\u001b[0m\u001b[37m\u001b[0m \u001b[1m5s\u001b[0m 4ms/step - accuracy: 0.8956 - loss: 0.5478\n",
            "Epoch 14/20\n",
            "\u001b[1m782/782\u001b[0m \u001b[32m━━━━━━━━━━━━━━━━━━━━\u001b[0m\u001b[37m\u001b[0m \u001b[1m6s\u001b[0m 6ms/step - accuracy: 0.9324 - loss: 0.2214\n",
            "Epoch 15/20\n",
            "\u001b[1m782/782\u001b[0m \u001b[32m━━━━━━━━━━━━━━━━━━━━\u001b[0m\u001b[37m\u001b[0m \u001b[1m4s\u001b[0m 5ms/step - accuracy: 0.9068 - loss: 0.5587\n",
            "Epoch 16/20\n",
            "\u001b[1m782/782\u001b[0m \u001b[32m━━━━━━━━━━━━━━━━━━━━\u001b[0m\u001b[37m\u001b[0m \u001b[1m6s\u001b[0m 6ms/step - accuracy: 0.9376 - loss: 0.2053\n",
            "Epoch 17/20\n",
            "\u001b[1m782/782\u001b[0m \u001b[32m━━━━━━━━━━━━━━━━━━━━\u001b[0m\u001b[37m\u001b[0m \u001b[1m3s\u001b[0m 4ms/step - accuracy: 0.9415 - loss: 0.1883\n",
            "Epoch 18/20\n",
            "\u001b[1m782/782\u001b[0m \u001b[32m━━━━━━━━━━━━━━━━━━━━\u001b[0m\u001b[37m\u001b[0m \u001b[1m6s\u001b[0m 5ms/step - accuracy: 0.9173 - loss: 0.5573\n",
            "Epoch 19/20\n",
            "\u001b[1m782/782\u001b[0m \u001b[32m━━━━━━━━━━━━━━━━━━━━\u001b[0m\u001b[37m\u001b[0m \u001b[1m4s\u001b[0m 5ms/step - accuracy: 0.8660 - loss: 1.3421\n",
            "Epoch 20/20\n",
            "\u001b[1m782/782\u001b[0m \u001b[32m━━━━━━━━━━━━━━━━━━━━\u001b[0m\u001b[37m\u001b[0m \u001b[1m3s\u001b[0m 4ms/step - accuracy: 0.8937 - loss: 0.9527\n"
          ]
        }
      ]
    },
    {
      "cell_type": "code",
      "source": [
        "history2 = model2.fit(xtrain_norm, ytrain, epochs=20)"
      ],
      "metadata": {
        "colab": {
          "base_uri": "https://localhost:8080/"
        },
        "id": "omZeDJxHQobg",
        "outputId": "c4f1195c-6cbb-4996-c938-cf3b3659ec0f"
      },
      "execution_count": 130,
      "outputs": [
        {
          "output_type": "stream",
          "name": "stdout",
          "text": [
            "Epoch 1/20\n",
            "\u001b[1m782/782\u001b[0m \u001b[32m━━━━━━━━━━━━━━━━━━━━\u001b[0m\u001b[37m\u001b[0m \u001b[1m6s\u001b[0m 6ms/step - accuracy: 0.6901 - loss: 0.7035\n",
            "Epoch 2/20\n",
            "\u001b[1m782/782\u001b[0m \u001b[32m━━━━━━━━━━━━━━━━━━━━\u001b[0m\u001b[37m\u001b[0m \u001b[1m6s\u001b[0m 7ms/step - accuracy: 0.8011 - loss: 0.6831\n",
            "Epoch 3/20\n",
            "\u001b[1m782/782\u001b[0m \u001b[32m━━━━━━━━━━━━━━━━━━━━\u001b[0m\u001b[37m\u001b[0m \u001b[1m10s\u001b[0m 6ms/step - accuracy: 0.8216 - loss: 1.2127\n",
            "Epoch 4/20\n",
            "\u001b[1m782/782\u001b[0m \u001b[32m━━━━━━━━━━━━━━━━━━━━\u001b[0m\u001b[37m\u001b[0m \u001b[1m5s\u001b[0m 6ms/step - accuracy: 0.8921 - loss: 0.3427\n",
            "Epoch 5/20\n",
            "\u001b[1m782/782\u001b[0m \u001b[32m━━━━━━━━━━━━━━━━━━━━\u001b[0m\u001b[37m\u001b[0m \u001b[1m5s\u001b[0m 6ms/step - accuracy: 0.8919 - loss: 0.3664\n",
            "Epoch 6/20\n",
            "\u001b[1m782/782\u001b[0m \u001b[32m━━━━━━━━━━━━━━━━━━━━\u001b[0m\u001b[37m\u001b[0m \u001b[1m5s\u001b[0m 6ms/step - accuracy: 0.7592 - loss: 1.6566\n",
            "Epoch 7/20\n",
            "\u001b[1m782/782\u001b[0m \u001b[32m━━━━━━━━━━━━━━━━━━━━\u001b[0m\u001b[37m\u001b[0m \u001b[1m4s\u001b[0m 6ms/step - accuracy: 0.6461 - loss: 4.4916\n",
            "Epoch 8/20\n",
            "\u001b[1m782/782\u001b[0m \u001b[32m━━━━━━━━━━━━━━━━━━━━\u001b[0m\u001b[37m\u001b[0m \u001b[1m6s\u001b[0m 7ms/step - accuracy: 0.8927 - loss: 0.3684\n",
            "Epoch 9/20\n",
            "\u001b[1m782/782\u001b[0m \u001b[32m━━━━━━━━━━━━━━━━━━━━\u001b[0m\u001b[37m\u001b[0m \u001b[1m5s\u001b[0m 6ms/step - accuracy: 0.5611 - loss: 6.7411\n",
            "Epoch 10/20\n",
            "\u001b[1m782/782\u001b[0m \u001b[32m━━━━━━━━━━━━━━━━━━━━\u001b[0m\u001b[37m\u001b[0m \u001b[1m5s\u001b[0m 7ms/step - accuracy: 0.5071 - loss: 7.9441\n",
            "Epoch 11/20\n",
            "\u001b[1m782/782\u001b[0m \u001b[32m━━━━━━━━━━━━━━━━━━━━\u001b[0m\u001b[37m\u001b[0m \u001b[1m10s\u001b[0m 6ms/step - accuracy: 0.4975 - loss: 8.0994\n",
            "Epoch 12/20\n",
            "\u001b[1m782/782\u001b[0m \u001b[32m━━━━━━━━━━━━━━━━━━━━\u001b[0m\u001b[37m\u001b[0m \u001b[1m5s\u001b[0m 6ms/step - accuracy: 0.4983 - loss: 8.0868\n",
            "Epoch 13/20\n",
            "\u001b[1m782/782\u001b[0m \u001b[32m━━━━━━━━━━━━━━━━━━━━\u001b[0m\u001b[37m\u001b[0m \u001b[1m5s\u001b[0m 6ms/step - accuracy: 0.4971 - loss: 8.1065\n",
            "Epoch 14/20\n",
            "\u001b[1m782/782\u001b[0m \u001b[32m━━━━━━━━━━━━━━━━━━━━\u001b[0m\u001b[37m\u001b[0m \u001b[1m6s\u001b[0m 7ms/step - accuracy: 0.4984 - loss: 8.0853\n",
            "Epoch 15/20\n",
            "\u001b[1m782/782\u001b[0m \u001b[32m━━━━━━━━━━━━━━━━━━━━\u001b[0m\u001b[37m\u001b[0m \u001b[1m5s\u001b[0m 6ms/step - accuracy: 0.5029 - loss: 8.0116\n",
            "Epoch 16/20\n",
            "\u001b[1m782/782\u001b[0m \u001b[32m━━━━━━━━━━━━━━━━━━━━\u001b[0m\u001b[37m\u001b[0m \u001b[1m5s\u001b[0m 7ms/step - accuracy: 0.5027 - loss: 8.0151\n",
            "Epoch 17/20\n",
            "\u001b[1m782/782\u001b[0m \u001b[32m━━━━━━━━━━━━━━━━━━━━\u001b[0m\u001b[37m\u001b[0m \u001b[1m10s\u001b[0m 7ms/step - accuracy: 0.4979 - loss: 8.0931\n",
            "Epoch 18/20\n",
            "\u001b[1m782/782\u001b[0m \u001b[32m━━━━━━━━━━━━━━━━━━━━\u001b[0m\u001b[37m\u001b[0m \u001b[1m9s\u001b[0m 6ms/step - accuracy: 0.5000 - loss: 8.0585\n",
            "Epoch 19/20\n",
            "\u001b[1m782/782\u001b[0m \u001b[32m━━━━━━━━━━━━━━━━━━━━\u001b[0m\u001b[37m\u001b[0m \u001b[1m5s\u001b[0m 6ms/step - accuracy: 0.4985 - loss: 8.0831\n",
            "Epoch 20/20\n",
            "\u001b[1m782/782\u001b[0m \u001b[32m━━━━━━━━━━━━━━━━━━━━\u001b[0m\u001b[37m\u001b[0m \u001b[1m4s\u001b[0m 5ms/step - accuracy: 0.4976 - loss: 8.0972\n"
          ]
        }
      ]
    },
    {
      "cell_type": "code",
      "source": [
        "# prompt: plot accuracy and loss from history1 on different graphs with different colors and legend present\n",
        "\n",
        "import matplotlib.pyplot as plt\n",
        "\n",
        "# Plot training accuracy values for model1\n",
        "plt.figure(figsize=(10, 5))\n",
        "plt.subplot(1, 2, 1)\n",
        "plt.plot(history1.history['accuracy'], label='Model 1', color='blue')\n",
        "plt.title('Model Accuracy')\n",
        "plt.ylabel('Accuracy')\n",
        "plt.xlabel('Epoch')\n",
        "plt.legend(loc=\"lower right\")\n",
        "\n",
        "\n",
        "# Plot training loss values for model1\n",
        "plt.subplot(1, 2, 2)\n",
        "plt.plot(history1.history['loss'], label='Model 1', color='red')\n",
        "plt.title('Model Loss')\n",
        "plt.ylabel('Loss')\n",
        "plt.xlabel('Epoch')\n",
        "plt.legend(loc=\"upper right\")\n",
        "\n",
        "plt.tight_layout()\n",
        "plt.show()\n"
      ],
      "metadata": {
        "colab": {
          "base_uri": "https://localhost:8080/",
          "height": 507
        },
        "id": "NRVS4YVgS_k-",
        "outputId": "244d2fde-fc46-4347-bf7d-cad93bb2d402"
      },
      "execution_count": 133,
      "outputs": [
        {
          "output_type": "display_data",
          "data": {
            "text/plain": [
              "<Figure size 1000x500 with 2 Axes>"
            ],
            "image/png": "[encoded data removed]"
          },
          "metadata": {}
        }
      ]
    },
    {
      "cell_type": "code",
      "source": [
        "# prompt: plot accuracy and loss from history1 on different graphs with different colors and legend present\n",
        "\n",
        "import matplotlib.pyplot as plt\n",
        "\n",
        "# Plot training accuracy values for model1\n",
        "plt.figure(figsize=(10, 5))\n",
        "plt.subplot(1, 2, 1)\n",
        "plt.plot(history2.history['accuracy'], label='Model 1', color='blue')\n",
        "plt.title('Model Accuracy')\n",
        "plt.ylabel('Accuracy')\n",
        "plt.xlabel('Epoch')\n",
        "plt.legend(loc=\"lower right\")\n",
        "\n",
        "\n",
        "# Plot training loss values for model1\n",
        "plt.subplot(1, 2, 2)\n",
        "plt.plot(history2.history['loss'], label='Model 1', color='red')\n",
        "plt.title('Model Loss')\n",
        "plt.ylabel('Loss')\n",
        "plt.xlabel('Epoch')\n",
        "plt.legend(loc=\"upper right\")\n",
        "\n",
        "plt.tight_layout()\n",
        "plt.show()\n"
      ],
      "metadata": {
        "colab": {
          "base_uri": "https://localhost:8080/",
          "height": 507
        },
        "id": "i-h5ERc6UrTm",
        "outputId": "a883fc3e-d3ae-4e81-bd2e-5adb3e1754da"
      },
      "execution_count": 134,
      "outputs": [
        {
          "output_type": "display_data",
          "data": {
            "text/plain": [
              "<Figure size 1000x500 with 2 Axes>"
            ],
            "image/png": "[encoded data removed]"
          },
          "metadata": {}
        }
      ]
    },
    {
      "cell_type": "code",
      "source": [
        "# paramters = weights + biases\n",
        "# trainable parameters, non-trainable parameters\n",
        "\n",
        "# Embedding layer -> exact math not approx -> no biases present; only weights\n",
        "#                 -> weights = input X output\n",
        "# GlobalAveragePooling1D -> no weights or biases required here; exact math to calculate average\n",
        "\n",
        "# Dense -> weights = input X output; biases = output\n",
        "\n",
        "model1.summary()"
      ],
      "metadata": {
        "colab": {
          "base_uri": "https://localhost:8080/",
          "height": 331
        },
        "id": "ibQfyB3KVKfK",
        "outputId": "4ef607ec-833f-4573-95ff-219e45111ff8"
      },
      "execution_count": 135,
      "outputs": [
        {
          "output_type": "display_data",
          "data": {
            "text/plain": [
              "\u001b[1mModel: \"sequential_17\"\u001b[0m\n"
            ],
            "text/html": [
              "<pre style=\"white-space:pre;overflow-x:auto;line-height:normal;font-family:Menlo,'DejaVu Sans Mono',consolas,'Courier New',monospace\"><span style=\"font-weight: bold\">Model: \"sequential_17\"</span>\n",
              "</pre>\n"
            ]
          },
          "metadata": {}
        },
        {
          "output_type": "display_data",
          "data": {
            "text/plain": [
              "┏━━━━━━━━━━━━━━━━━━━━━━━━━━━━━━━━━━━━━━┳━━━━━━━━━━━━━━━━━━━━━━━━━━━━━┳━━━━━━━━━━━━━━━━━┓\n",
              "┃\u001b[1m \u001b[0m\u001b[1mLayer (type)                        \u001b[0m\u001b[1m \u001b[0m┃\u001b[1m \u001b[0m\u001b[1mOutput Shape               \u001b[0m\u001b[1m \u001b[0m┃\u001b[1m \u001b[0m\u001b[1m        Param #\u001b[0m\u001b[1m \u001b[0m┃\n",
              "┡━━━━━━━━━━━━━━━━━━━━━━━━━━━━━━━━━━━━━━╇━━━━━━━━━━━━━━━━━━━━━━━━━━━━━╇━━━━━━━━━━━━━━━━━┩\n",
              "│ embedding_17 (\u001b[38;5;33mEmbedding\u001b[0m)             │ (\u001b[38;5;45mNone\u001b[0m, \u001b[38;5;34m256\u001b[0m, \u001b[38;5;34m16\u001b[0m)             │         \u001b[38;5;34m160,000\u001b[0m │\n",
              "├──────────────────────────────────────┼─────────────────────────────┼─────────────────┤\n",
              "│ global_average_pooling1d_17          │ (\u001b[38;5;45mNone\u001b[0m, \u001b[38;5;34m16\u001b[0m)                  │               \u001b[38;5;34m0\u001b[0m │\n",
              "│ (\u001b[38;5;33mGlobalAveragePooling1D\u001b[0m)             │                             │                 │\n",
              "├──────────────────────────────────────┼─────────────────────────────┼─────────────────┤\n",
              "│ dense_51 (\u001b[38;5;33mDense\u001b[0m)                     │ (\u001b[38;5;45mNone\u001b[0m, \u001b[38;5;34m16\u001b[0m)                  │             \u001b[38;5;34m272\u001b[0m │\n",
              "├──────────────────────────────────────┼─────────────────────────────┼─────────────────┤\n",
              "│ dense_52 (\u001b[38;5;33mDense\u001b[0m)                     │ (\u001b[38;5;45mNone\u001b[0m, \u001b[38;5;34m32\u001b[0m)                  │             \u001b[38;5;34m544\u001b[0m │\n",
              "├──────────────────────────────────────┼─────────────────────────────┼─────────────────┤\n",
              "│ dense_53 (\u001b[38;5;33mDense\u001b[0m)                     │ (\u001b[38;5;45mNone\u001b[0m, \u001b[38;5;34m1\u001b[0m)                   │              \u001b[38;5;34m33\u001b[0m │\n",
              "└──────────────────────────────────────┴─────────────────────────────┴─────────────────┘\n"
            ],
            "text/html": [
              "<pre style=\"white-space:pre;overflow-x:auto;line-height:normal;font-family:Menlo,'DejaVu Sans Mono',consolas,'Courier New',monospace\">┏━━━━━━━━━━━━━━━━━━━━━━━━━━━━━━━━━━━━━━┳━━━━━━━━━━━━━━━━━━━━━━━━━━━━━┳━━━━━━━━━━━━━━━━━┓\n",
              "┃<span style=\"font-weight: bold\"> Layer (type)                         </span>┃<span style=\"font-weight: bold\"> Output Shape                </span>┃<span style=\"font-weight: bold\">         Param # </span>┃\n",
              "┡━━━━━━━━━━━━━━━━━━━━━━━━━━━━━━━━━━━━━━╇━━━━━━━━━━━━━━━━━━━━━━━━━━━━━╇━━━━━━━━━━━━━━━━━┩\n",
              "│ embedding_17 (<span style=\"color: #0087ff; text-decoration-color: #0087ff\">Embedding</span>)             │ (<span style=\"color: #00d7ff; text-decoration-color: #00d7ff\">None</span>, <span style=\"color: #00af00; text-decoration-color: #00af00\">256</span>, <span style=\"color: #00af00; text-decoration-color: #00af00\">16</span>)             │         <span style=\"color: #00af00; text-decoration-color: #00af00\">160,000</span> │\n",
              "├──────────────────────────────────────┼─────────────────────────────┼─────────────────┤\n",
              "│ global_average_pooling1d_17          │ (<span style=\"color: #00d7ff; text-decoration-color: #00d7ff\">None</span>, <span style=\"color: #00af00; text-decoration-color: #00af00\">16</span>)                  │               <span style=\"color: #00af00; text-decoration-color: #00af00\">0</span> │\n",
              "│ (<span style=\"color: #0087ff; text-decoration-color: #0087ff\">GlobalAveragePooling1D</span>)             │                             │                 │\n",
              "├──────────────────────────────────────┼─────────────────────────────┼─────────────────┤\n",
              "│ dense_51 (<span style=\"color: #0087ff; text-decoration-color: #0087ff\">Dense</span>)                     │ (<span style=\"color: #00d7ff; text-decoration-color: #00d7ff\">None</span>, <span style=\"color: #00af00; text-decoration-color: #00af00\">16</span>)                  │             <span style=\"color: #00af00; text-decoration-color: #00af00\">272</span> │\n",
              "├──────────────────────────────────────┼─────────────────────────────┼─────────────────┤\n",
              "│ dense_52 (<span style=\"color: #0087ff; text-decoration-color: #0087ff\">Dense</span>)                     │ (<span style=\"color: #00d7ff; text-decoration-color: #00d7ff\">None</span>, <span style=\"color: #00af00; text-decoration-color: #00af00\">32</span>)                  │             <span style=\"color: #00af00; text-decoration-color: #00af00\">544</span> │\n",
              "├──────────────────────────────────────┼─────────────────────────────┼─────────────────┤\n",
              "│ dense_53 (<span style=\"color: #0087ff; text-decoration-color: #0087ff\">Dense</span>)                     │ (<span style=\"color: #00d7ff; text-decoration-color: #00d7ff\">None</span>, <span style=\"color: #00af00; text-decoration-color: #00af00\">1</span>)                   │              <span style=\"color: #00af00; text-decoration-color: #00af00\">33</span> │\n",
              "└──────────────────────────────────────┴─────────────────────────────┴─────────────────┘\n",
              "</pre>\n"
            ]
          },
          "metadata": {}
        },
        {
          "output_type": "display_data",
          "data": {
            "text/plain": [
              "\u001b[1m Total params: \u001b[0m\u001b[38;5;34m482,549\u001b[0m (1.84 MB)\n"
            ],
            "text/html": [
              "<pre style=\"white-space:pre;overflow-x:auto;line-height:normal;font-family:Menlo,'DejaVu Sans Mono',consolas,'Courier New',monospace\"><span style=\"font-weight: bold\"> Total params: </span><span style=\"color: #00af00; text-decoration-color: #00af00\">482,549</span> (1.84 MB)\n",
              "</pre>\n"
            ]
          },
          "metadata": {}
        },
        {
          "output_type": "display_data",
          "data": {
            "text/plain": [
              "\u001b[1m Trainable params: \u001b[0m\u001b[38;5;34m160,849\u001b[0m (628.32 KB)\n"
            ],
            "text/html": [
              "<pre style=\"white-space:pre;overflow-x:auto;line-height:normal;font-family:Menlo,'DejaVu Sans Mono',consolas,'Courier New',monospace\"><span style=\"font-weight: bold\"> Trainable params: </span><span style=\"color: #00af00; text-decoration-color: #00af00\">160,849</span> (628.32 KB)\n",
              "</pre>\n"
            ]
          },
          "metadata": {}
        },
        {
          "output_type": "display_data",
          "data": {
            "text/plain": [
              "\u001b[1m Non-trainable params: \u001b[0m\u001b[38;5;34m0\u001b[0m (0.00 B)\n"
            ],
            "text/html": [
              "<pre style=\"white-space:pre;overflow-x:auto;line-height:normal;font-family:Menlo,'DejaVu Sans Mono',consolas,'Courier New',monospace\"><span style=\"font-weight: bold\"> Non-trainable params: </span><span style=\"color: #00af00; text-decoration-color: #00af00\">0</span> (0.00 B)\n",
              "</pre>\n"
            ]
          },
          "metadata": {}
        },
        {
          "output_type": "display_data",
          "data": {
            "text/plain": [
              "\u001b[1m Optimizer params: \u001b[0m\u001b[38;5;34m321,700\u001b[0m (1.23 MB)\n"
            ],
            "text/html": [
              "<pre style=\"white-space:pre;overflow-x:auto;line-height:normal;font-family:Menlo,'DejaVu Sans Mono',consolas,'Courier New',monospace\"><span style=\"font-weight: bold\"> Optimizer params: </span><span style=\"color: #00af00; text-decoration-color: #00af00\">321,700</span> (1.23 MB)\n",
              "</pre>\n"
            ]
          },
          "metadata": {}
        }
      ]
    },
    {
      "cell_type": "code",
      "source": [
        "model2.summary()"
      ],
      "metadata": {
        "colab": {
          "base_uri": "https://localhost:8080/",
          "height": 331
        },
        "id": "dzRQrXo5WpL_",
        "outputId": "c533f738-8341-46a0-a892-884a5123ff16"
      },
      "execution_count": 136,
      "outputs": [
        {
          "output_type": "display_data",
          "data": {
            "text/plain": [
              "\u001b[1mModel: \"sequential_18\"\u001b[0m\n"
            ],
            "text/html": [
              "<pre style=\"white-space:pre;overflow-x:auto;line-height:normal;font-family:Menlo,'DejaVu Sans Mono',consolas,'Courier New',monospace\"><span style=\"font-weight: bold\">Model: \"sequential_18\"</span>\n",
              "</pre>\n"
            ]
          },
          "metadata": {}
        },
        {
          "output_type": "display_data",
          "data": {
            "text/plain": [
              "┏━━━━━━━━━━━━━━━━━━━━━━━━━━━━━━━━━━━━━━┳━━━━━━━━━━━━━━━━━━━━━━━━━━━━━┳━━━━━━━━━━━━━━━━━┓\n",
              "┃\u001b[1m \u001b[0m\u001b[1mLayer (type)                        \u001b[0m\u001b[1m \u001b[0m┃\u001b[1m \u001b[0m\u001b[1mOutput Shape               \u001b[0m\u001b[1m \u001b[0m┃\u001b[1m \u001b[0m\u001b[1m        Param #\u001b[0m\u001b[1m \u001b[0m┃\n",
              "┡━━━━━━━━━━━━━━━━━━━━━━━━━━━━━━━━━━━━━━╇━━━━━━━━━━━━━━━━━━━━━━━━━━━━━╇━━━━━━━━━━━━━━━━━┩\n",
              "│ embedding_18 (\u001b[38;5;33mEmbedding\u001b[0m)             │ (\u001b[38;5;45mNone\u001b[0m, \u001b[38;5;34m256\u001b[0m, \u001b[38;5;34m16\u001b[0m)             │         \u001b[38;5;34m160,000\u001b[0m │\n",
              "├──────────────────────────────────────┼─────────────────────────────┼─────────────────┤\n",
              "│ global_average_pooling1d_18          │ (\u001b[38;5;45mNone\u001b[0m, \u001b[38;5;34m16\u001b[0m)                  │               \u001b[38;5;34m0\u001b[0m │\n",
              "│ (\u001b[38;5;33mGlobalAveragePooling1D\u001b[0m)             │                             │                 │\n",
              "├──────────────────────────────────────┼─────────────────────────────┼─────────────────┤\n",
              "│ dense_54 (\u001b[38;5;33mDense\u001b[0m)                     │ (\u001b[38;5;45mNone\u001b[0m, \u001b[38;5;34m256\u001b[0m)                 │           \u001b[38;5;34m4,352\u001b[0m │\n",
              "├──────────────────────────────────────┼─────────────────────────────┼─────────────────┤\n",
              "│ dense_55 (\u001b[38;5;33mDense\u001b[0m)                     │ (\u001b[38;5;45mNone\u001b[0m, \u001b[38;5;34m512\u001b[0m)                 │         \u001b[38;5;34m131,584\u001b[0m │\n",
              "├──────────────────────────────────────┼─────────────────────────────┼─────────────────┤\n",
              "│ dense_56 (\u001b[38;5;33mDense\u001b[0m)                     │ (\u001b[38;5;45mNone\u001b[0m, \u001b[38;5;34m1\u001b[0m)                   │             \u001b[38;5;34m513\u001b[0m │\n",
              "└──────────────────────────────────────┴─────────────────────────────┴─────────────────┘\n"
            ],
            "text/html": [
              "<pre style=\"white-space:pre;overflow-x:auto;line-height:normal;font-family:Menlo,'DejaVu Sans Mono',consolas,'Courier New',monospace\">┏━━━━━━━━━━━━━━━━━━━━━━━━━━━━━━━━━━━━━━┳━━━━━━━━━━━━━━━━━━━━━━━━━━━━━┳━━━━━━━━━━━━━━━━━┓\n",
              "┃<span style=\"font-weight: bold\"> Layer (type)                         </span>┃<span style=\"font-weight: bold\"> Output Shape                </span>┃<span style=\"font-weight: bold\">         Param # </span>┃\n",
              "┡━━━━━━━━━━━━━━━━━━━━━━━━━━━━━━━━━━━━━━╇━━━━━━━━━━━━━━━━━━━━━━━━━━━━━╇━━━━━━━━━━━━━━━━━┩\n",
              "│ embedding_18 (<span style=\"color: #0087ff; text-decoration-color: #0087ff\">Embedding</span>)             │ (<span style=\"color: #00d7ff; text-decoration-color: #00d7ff\">None</span>, <span style=\"color: #00af00; text-decoration-color: #00af00\">256</span>, <span style=\"color: #00af00; text-decoration-color: #00af00\">16</span>)             │         <span style=\"color: #00af00; text-decoration-color: #00af00\">160,000</span> │\n",
              "├──────────────────────────────────────┼─────────────────────────────┼─────────────────┤\n",
              "│ global_average_pooling1d_18          │ (<span style=\"color: #00d7ff; text-decoration-color: #00d7ff\">None</span>, <span style=\"color: #00af00; text-decoration-color: #00af00\">16</span>)                  │               <span style=\"color: #00af00; text-decoration-color: #00af00\">0</span> │\n",
              "│ (<span style=\"color: #0087ff; text-decoration-color: #0087ff\">GlobalAveragePooling1D</span>)             │                             │                 │\n",
              "├──────────────────────────────────────┼─────────────────────────────┼─────────────────┤\n",
              "│ dense_54 (<span style=\"color: #0087ff; text-decoration-color: #0087ff\">Dense</span>)                     │ (<span style=\"color: #00d7ff; text-decoration-color: #00d7ff\">None</span>, <span style=\"color: #00af00; text-decoration-color: #00af00\">256</span>)                 │           <span style=\"color: #00af00; text-decoration-color: #00af00\">4,352</span> │\n",
              "├──────────────────────────────────────┼─────────────────────────────┼─────────────────┤\n",
              "│ dense_55 (<span style=\"color: #0087ff; text-decoration-color: #0087ff\">Dense</span>)                     │ (<span style=\"color: #00d7ff; text-decoration-color: #00d7ff\">None</span>, <span style=\"color: #00af00; text-decoration-color: #00af00\">512</span>)                 │         <span style=\"color: #00af00; text-decoration-color: #00af00\">131,584</span> │\n",
              "├──────────────────────────────────────┼─────────────────────────────┼─────────────────┤\n",
              "│ dense_56 (<span style=\"color: #0087ff; text-decoration-color: #0087ff\">Dense</span>)                     │ (<span style=\"color: #00d7ff; text-decoration-color: #00d7ff\">None</span>, <span style=\"color: #00af00; text-decoration-color: #00af00\">1</span>)                   │             <span style=\"color: #00af00; text-decoration-color: #00af00\">513</span> │\n",
              "└──────────────────────────────────────┴─────────────────────────────┴─────────────────┘\n",
              "</pre>\n"
            ]
          },
          "metadata": {}
        },
        {
          "output_type": "display_data",
          "data": {
            "text/plain": [
              "\u001b[1m Total params: \u001b[0m\u001b[38;5;34m889,349\u001b[0m (3.39 MB)\n"
            ],
            "text/html": [
              "<pre style=\"white-space:pre;overflow-x:auto;line-height:normal;font-family:Menlo,'DejaVu Sans Mono',consolas,'Courier New',monospace\"><span style=\"font-weight: bold\"> Total params: </span><span style=\"color: #00af00; text-decoration-color: #00af00\">889,349</span> (3.39 MB)\n",
              "</pre>\n"
            ]
          },
          "metadata": {}
        },
        {
          "output_type": "display_data",
          "data": {
            "text/plain": [
              "\u001b[1m Trainable params: \u001b[0m\u001b[38;5;34m296,449\u001b[0m (1.13 MB)\n"
            ],
            "text/html": [
              "<pre style=\"white-space:pre;overflow-x:auto;line-height:normal;font-family:Menlo,'DejaVu Sans Mono',consolas,'Courier New',monospace\"><span style=\"font-weight: bold\"> Trainable params: </span><span style=\"color: #00af00; text-decoration-color: #00af00\">296,449</span> (1.13 MB)\n",
              "</pre>\n"
            ]
          },
          "metadata": {}
        },
        {
          "output_type": "display_data",
          "data": {
            "text/plain": [
              "\u001b[1m Non-trainable params: \u001b[0m\u001b[38;5;34m0\u001b[0m (0.00 B)\n"
            ],
            "text/html": [
              "<pre style=\"white-space:pre;overflow-x:auto;line-height:normal;font-family:Menlo,'DejaVu Sans Mono',consolas,'Courier New',monospace\"><span style=\"font-weight: bold\"> Non-trainable params: </span><span style=\"color: #00af00; text-decoration-color: #00af00\">0</span> (0.00 B)\n",
              "</pre>\n"
            ]
          },
          "metadata": {}
        },
        {
          "output_type": "display_data",
          "data": {
            "text/plain": [
              "\u001b[1m Optimizer params: \u001b[0m\u001b[38;5;34m592,900\u001b[0m (2.26 MB)\n"
            ],
            "text/html": [
              "<pre style=\"white-space:pre;overflow-x:auto;line-height:normal;font-family:Menlo,'DejaVu Sans Mono',consolas,'Courier New',monospace\"><span style=\"font-weight: bold\"> Optimizer params: </span><span style=\"color: #00af00; text-decoration-color: #00af00\">592,900</span> (2.26 MB)\n",
              "</pre>\n"
            ]
          },
          "metadata": {}
        }
      ]
    },
    {
      "cell_type": "code",
      "source": [],
      "metadata": {
        "id": "ev9A9q9pXLga"
      },
      "execution_count": null,
      "outputs": []
    }
  ]
}