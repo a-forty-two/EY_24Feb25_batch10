{
  "nbformat": 4,
  "nbformat_minor": 0,
  "metadata": {
    "colab": {
      "provenance": [],
      "authorship_tag": "ABX9TyNrOXXxRddXbQc/NJ6q5D76",
      "include_colab_link": true
    },
    "kernelspec": {
      "name": "python3",
      "display_name": "Python 3"
    },
    "language_info": {
      "name": "python"
    }
  },
  "cells": [
    {
      "cell_type": "markdown",
      "metadata": {
        "id": "view-in-github",
        "colab_type": "text"
      },
      "source": [
        "<a href=\"https://colab.research.google.com/github/a-forty-two/EY_24Feb25_batch10/blob/main/24Feb_001_intro_to_notebook.ipynb\" target=\"_parent\"><img src=\"https://colab.research.google.com/assets/colab-badge.svg\" alt=\"Open In Colab\"/></a>"
      ]
    },
    {
      "cell_type": "markdown",
      "source": [
        "This is my program to find sum of 2 numbers"
      ],
      "metadata": {
        "id": "Gad28ifXVD5T"
      }
    },
    {
      "cell_type": "markdown",
      "source": [
        "Some important commands:\n",
        "\n",
        "\n",
        "\n",
        "Shift + enter -> executes current cell and creates a new one\n",
        "\n",
        "%%writefile -> creates a new file\n",
        "\n",
        "%%writefile -a -> appends an existing file\n",
        "\n",
        "! -> used to execute shell commands in the linux server\n",
        "\n"
      ],
      "metadata": {
        "id": "9dNkSh5Banz9"
      }
    },
    {
      "cell_type": "code",
      "source": [
        "print('hello')"
      ],
      "metadata": {
        "colab": {
          "base_uri": "https://localhost:8080/"
        },
        "id": "LJToyN_jam8_",
        "outputId": "8d2e90d7-25f1-4ffa-e527-71c658e175e7"
      },
      "execution_count": 22,
      "outputs": [
        {
          "output_type": "stream",
          "name": "stdout",
          "text": [
            "hello\n"
          ]
        }
      ]
    },
    {
      "cell_type": "code",
      "source": [
        "#%%writefile myprogram.py\n",
        "a = 1\n",
        "b = 2"
      ],
      "metadata": {
        "colab": {
          "base_uri": "https://localhost:8080/"
        },
        "id": "IQ1-9G-7VlGX",
        "outputId": "c64da50d-37ef-4975-a157-9fee8bdc1b4b"
      },
      "execution_count": 11,
      "outputs": [
        {
          "output_type": "stream",
          "name": "stdout",
          "text": [
            "Overwriting myprogram.py\n"
          ]
        }
      ]
    },
    {
      "cell_type": "code",
      "source": [
        "# c = a - b # wrong step, don't execute in future"
      ],
      "metadata": {
        "id": "kiAccwGhVmi4"
      },
      "execution_count": 4,
      "outputs": []
    },
    {
      "cell_type": "code",
      "source": [
        "#%%writefile -a myprogram.py\n",
        "c = a + b"
      ],
      "metadata": {
        "colab": {
          "base_uri": "https://localhost:8080/"
        },
        "id": "mQlFPVfWVvMO",
        "outputId": "27f9d055-b974-4a1a-a1a5-d0e40c3264d6"
      },
      "execution_count": 12,
      "outputs": [
        {
          "output_type": "stream",
          "name": "stdout",
          "text": [
            "Appending to myprogram.py\n"
          ]
        }
      ]
    },
    {
      "cell_type": "code",
      "source": [
        "#%%writefile -a myprogram.py\n",
        "print(c)"
      ],
      "metadata": {
        "colab": {
          "base_uri": "https://localhost:8080/"
        },
        "id": "3ESZIb7xVoop",
        "outputId": "0536b308-f2c8-498b-ab29-80a38bcaae31"
      },
      "execution_count": 13,
      "outputs": [
        {
          "output_type": "stream",
          "name": "stdout",
          "text": [
            "Appending to myprogram.py\n"
          ]
        }
      ]
    },
    {
      "cell_type": "code",
      "source": [
        "# ! mark is to execute linux (or Windows) shell script\n",
        "!echo \"a=1\" > blah.sh"
      ],
      "metadata": {
        "id": "WUmQQHVKaBeh"
      },
      "execution_count": 18,
      "outputs": []
    },
    {
      "cell_type": "code",
      "source": [
        "!ls"
      ],
      "metadata": {
        "colab": {
          "base_uri": "https://localhost:8080/"
        },
        "id": "Y-GvniSbaNAX",
        "outputId": "a496679e-5572-4c94-b114-ff6f117292f5"
      },
      "execution_count": 19,
      "outputs": [
        {
          "output_type": "stream",
          "name": "stdout",
          "text": [
            "blah.sh  myprogram.py  sample_data\n"
          ]
        }
      ]
    },
    {
      "cell_type": "code",
      "source": [
        "%%sh blah.sh"
      ],
      "metadata": {
        "id": "n9eYJ8vlVpTt"
      },
      "execution_count": 20,
      "outputs": []
    },
    {
      "cell_type": "code",
      "source": [],
      "metadata": {
        "id": "Otke6r1wZ_Ne"
      },
      "execution_count": null,
      "outputs": []
    }
  ]
}